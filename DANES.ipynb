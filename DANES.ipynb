{
  "nbformat": 4,
  "nbformat_minor": 0,
  "metadata": {
    "colab": {
      "provenance": [],
      "gpuType": "T4",
      "authorship_tag": "ABX9TyPvurcSM8GToRzcexBt+TM5",
      "include_colab_link": true
    },
    "kernelspec": {
      "name": "python3",
      "display_name": "Python 3"
    },
    "language_info": {
      "name": "python"
    },
    "accelerator": "GPU"
  },
  "cells": [
    {
      "cell_type": "markdown",
      "metadata": {
        "id": "view-in-github",
        "colab_type": "text"
      },
      "source": [
        "<a href=\"https://colab.research.google.com/github/fjadidi2001/fake_news_detection/blob/main/DANES.ipynb\" target=\"_parent\"><img src=\"https://colab.research.google.com/assets/colab-badge.svg\" alt=\"Open In Colab\"/></a>"
      ]
    },
    {
      "cell_type": "code",
      "source": [
        "import pandas as pd\n",
        "from sklearn.model_selection import train_test_split\n",
        "from sklearn.preprocessing import StandardScaler\n",
        "from tensorflow.keras.preprocessing.text import Tokenizer\n",
        "from tensorflow.keras.preprocessing.sequence import pad_sequences\n",
        "\n",
        "# Load dataset\n",
        "# Try common encodings\n",
        "try:\n",
        "    df = pd.read_csv('facebook-fact-check.csv', encoding='latin1')  # or 'ISO-8859-1'\n",
        "except UnicodeDecodeError:\n",
        "    df = pd.read_csv('facebook-fact-check.csv', encoding='windows-1252')\n",
        "# Convert 'Rating' to binary labels (1 for fake, 0 otherwise)\n",
        "df['label'] = df['Rating'].apply(lambda x: 1 if x == 'no factual content' else 0)\n",
        "\n",
        "# Text preprocessing\n",
        "texts = df['Context Post'].fillna('').astype(str)\n",
        "tokenizer = Tokenizer(num_words=10000)\n",
        "tokenizer.fit_on_texts(texts)\n",
        "sequences = tokenizer.texts_to_sequences(texts)\n",
        "padded_sequences = pad_sequences(sequences, maxlen=200)\n",
        "\n",
        "# Social features preprocessing\n",
        "social_features = df[['share_count', 'reaction_count', 'comment_count']].fillna(0)\n",
        "scaler = StandardScaler()\n",
        "social_scaled = scaler.fit_transform(social_features)\n",
        "\n",
        "# Split data into train and test sets\n",
        "X_text_train, X_text_test, X_social_train, X_social_test, y_train, y_test = train_test_split(\n",
        "    padded_sequences, social_scaled, df['label'], test_size=0.2, random_state=42\n",
        ")"
      ],
      "metadata": {
        "id": "XgmeI8x3_fT0"
      },
      "execution_count": 2,
      "outputs": []
    }
  ]
}