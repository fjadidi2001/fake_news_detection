{
  "nbformat": 4,
  "nbformat_minor": 0,
  "metadata": {
    "colab": {
      "provenance": [],
      "gpuType": "T4",
      "authorship_tag": "ABX9TyPxCNsik2EzE+J14qt+EX9X",
      "include_colab_link": true
    },
    "kernelspec": {
      "name": "python3",
      "display_name": "Python 3"
    },
    "language_info": {
      "name": "python"
    },
    "accelerator": "GPU"
  },
  "cells": [
    {
      "cell_type": "markdown",
      "metadata": {
        "id": "view-in-github",
        "colab_type": "text"
      },
      "source": [
        "<a href=\"https://colab.research.google.com/github/fjadidi2001/fake_news_detection/blob/main/DANES.ipynb\" target=\"_parent\"><img src=\"https://colab.research.google.com/assets/colab-badge.svg\" alt=\"Open In Colab\"/></a>"
      ]
    },
    {
      "cell_type": "code",
      "source": [
        "import pandas as pd\n",
        "import numpy as np\n",
        "import re\n",
        "from sklearn.preprocessing import StandardScaler, OneHotEncoder\n",
        "from sklearn.compose import ColumnTransformer\n",
        "from sklearn.model_selection import train_test_split\n",
        "from tensorflow.keras.preprocessing.text import Tokenizer\n",
        "from tensorflow.keras.preprocessing.sequence import pad_sequences\n",
        "import pickle\n"
      ],
      "metadata": {
        "id": "R4EFXAsR7HJg"
      },
      "execution_count": 1,
      "outputs": []
    },
    {
      "cell_type": "code",
      "source": [
        "\n",
        "# Load dataset\n",
        "df = pd.read_csv('facebook-fact-check.csv')\n",
        "\n",
        "# Assume 'text' contains news content and 'label' is the target (fake/real)\n",
        "texts = df['text'].fillna('').values  # Handle missing text\n",
        "labels = df['label'].values\n",
        "\n",
        "# Text preprocessing\n",
        "def clean_text(text):\n",
        "    text = text.lower()\n",
        "    text = re.sub(r'http\\S+|www\\S+|https\\S+', '', text, flags=re.MULTILINE)  # Remove URLs\n",
        "    text = re.sub(r'[^a-zA-Z\\s]', '', text)  # Remove special characters\n",
        "    return text.strip()\n",
        "\n",
        "cleaned_texts = [clean_text(t) for t in texts]\n",
        "\n",
        "# Tokenization and padding\n",
        "tokenizer = Tokenizer(num_words=10000, oov_token='<OOV>')\n",
        "tokenizer.fit_on_texts(cleaned_texts)\n",
        "sequences = tokenizer.texts_to_sequences(cleaned_texts)\n",
        "padded_sequences = pad_sequences(sequences, maxlen=200, padding='post', truncating='post')\n",
        "\n",
        "# Social context preprocessing (adjust columns based on your dataset)\n",
        "social_features = df[['shares', 'likes', 'user_followers', 'user_verified']].copy()\n",
        "\n",
        "# Handle missing data (example: fill numerical NaNs with median)\n",
        "social_features['shares'].fillna(social_features['shares'].median(), inplace=True)\n",
        "social_features['likes'].fillna(social_features['likes'].median(), inplace=True)\n",
        "social_features['user_followers'].fillna(social_features['user_followers'].median(), inplace=True)\n",
        "social_features['user_verified'].fillna(False, inplace=True)  # Assume unverified if missing\n",
        "\n",
        "# Preprocess numerical and categorical features\n",
        "preprocessor = ColumnTransformer(\n",
        "    transformers=[\n",
        "        ('num', StandardScaler(), ['shares', 'likes', 'user_followers']),\n",
        "        ('cat', OneHotEncoder(), ['user_verified'])\n",
        "    ])\n",
        "processed_social = preprocessor.fit_transform(social_features)\n",
        "\n",
        "# Split data into training and testing sets\n",
        "X_text_train, X_text_test, X_social_train, X_social_test, y_train, y_test = train_test_split(\n",
        "    padded_sequences, processed_social, labels, test_size=0.2, random_state=42\n",
        ")\n",
        "\n",
        "# Save preprocessed data\n",
        "np.save('X_text_train.npy', X_text_train)\n",
        "np.save('X_text_test.npy', X_text_test)\n",
        "np.save('X_social_train.npy', X_social_train)\n",
        "np.save('X_social_test.npy', X_social_test)\n",
        "np.save('y_train.npy', y_train)\n",
        "np.save('y_test.npy', y_test)\n",
        "\n",
        "# Save preprocessing artifacts\n",
        "with open('tokenizer.pkl', 'wb') as f:\n",
        "    pickle.dump(tokenizer, f)\n",
        "with open('preprocessor.pkl', 'wb') as f:\n",
        "    pickle.dump(preprocessor, f)"
      ],
      "metadata": {
        "id": "gZaHBLSO1CYm"
      },
      "execution_count": null,
      "outputs": []
    }
  ]
}