{
  "nbformat": 4,
  "nbformat_minor": 0,
  "metadata": {
    "colab": {
      "provenance": [],
      "gpuType": "T4",
      "authorship_tag": "ABX9TyMf9qiLwT50nYM1QVsC+Raf",
      "include_colab_link": true
    },
    "kernelspec": {
      "name": "python3",
      "display_name": "Python 3"
    },
    "language_info": {
      "name": "python"
    },
    "accelerator": "GPU"
  },
  "cells": [
    {
      "cell_type": "markdown",
      "metadata": {
        "id": "view-in-github",
        "colab_type": "text"
      },
      "source": [
        "<a href=\"https://colab.research.google.com/github/fjadidi2001/fake_news_detection/blob/main/BertGnn_Apr1.ipynb\" target=\"_parent\"><img src=\"https://colab.research.google.com/assets/colab-badge.svg\" alt=\"Open In Colab\"/></a>"
      ]
    },
    {
      "cell_type": "markdown",
      "source": [
        "The BERT model was proposed in BERT: Pre-training of Deep Bidirectional Transformers for Language Understanding by Jacob Devlin, Ming-Wei Chang, Kenton Lee and Kristina Toutanova. It’s a bidirectional transformer pretrained using a combination of masked language modeling objective and next sentence prediction on a large corpus comprising the Toronto Book Corpus and Wikipedia.\n",
        "\n"
      ],
      "metadata": {
        "id": "4YY3zgq_Phpi"
      }
    },
    {
      "cell_type": "code",
      "source": [
        "import pandas as pd\n",
        "import numpy as np\n",
        "import torch\n",
        "from transformers import BertTokenizer, BertModel\n",
        "from tensorflow.keras import layers, Model\n",
        "import tensorflow as tf\n",
        "from google.colab import drive\n",
        "drive.mount('/content/drive/')\n",
        "# Load and preprocess the data\n",
        "df = pd.read_csv('/content/drive/MyDrive/Projects/Hayat/facebook-fact-check.csv', encoding='latin-1')\n",
        "\n",
        "# Text preprocessing for BERT\n",
        "tokenizer = BertTokenizer.from_pretrained('bert-base-uncased')\n",
        "max_len = 100\n",
        "\n",
        "def encode_texts(texts):\n",
        "    return tokenizer(\n",
        "        texts.tolist(),\n",
        "        max_length=max_len,\n",
        "        padding='max_length',\n",
        "        truncation=True,\n",
        "        return_tensors='pt'\n",
        "    )\n",
        "\n",
        "text_encodings = encode_texts(df['Context Post'].fillna(''))\n",
        "input_ids = text_encodings['input_ids']\n",
        "attention_mask = text_encodings['attention_mask']\n",
        "\n",
        "# Social features preprocessing\n",
        "social_features = ['share_count', 'reaction_count', 'comment_count']\n",
        "social_data = df[social_features].fillna(0).values\n",
        "social_data = (social_data - social_data.mean()) / (social_data.std() + 1e-7)\n",
        "\n",
        "# Labels for fake news detection\n",
        "rating_map = {\n",
        "    'no factual content': 0,\n",
        "    'mostly true': 1,\n",
        "    # Add more ratings based on your dataset\n",
        "    # For fake news: 0 = fake/not factual, 1 = true/factual\n",
        "}\n",
        "labels = df['Rating'].map(rating_map).fillna(0).values\n",
        "\n",
        "# Convert torch tensors to tf tensors\n",
        "input_ids_tf = tf.convert_to_tensor(input_ids.numpy())\n",
        "attention_mask_tf = tf.convert_to_tensor(attention_mask.numpy())\n",
        "social_data_tf = tf.convert_to_tensor(social_data)\n",
        "labels_tf = tf.convert_to_tensor(labels)"
      ],
      "metadata": {
        "colab": {
          "base_uri": "https://localhost:8080/"
        },
        "id": "PSmoYXqpVgKC",
        "outputId": "0ada31bc-7ccf-40ba-b141-eb33a7caf88e"
      },
      "execution_count": 2,
      "outputs": [
        {
          "output_type": "stream",
          "name": "stdout",
          "text": [
            "Drive already mounted at /content/drive/; to attempt to forcibly remount, call drive.mount(\"/content/drive/\", force_remount=True).\n"
          ]
        }
      ]
    },
    {
      "cell_type": "code",
      "execution_count": 3,
      "metadata": {
        "id": "2QeWd-rtPFy6",
        "colab": {
          "base_uri": "https://localhost:8080/",
          "height": 460
        },
        "outputId": "06d85d59-7fb8-49ad-fda9-0441684eaad5"
      },
      "outputs": [
        {
          "output_type": "error",
          "ename": "NotImplementedError",
          "evalue": "Exception encountered when calling Lambda.call().\n\n\u001b[1mWe could not automatically infer the shape of the Lambda's output. Please specify the `output_shape` argument for this Lambda layer.\u001b[0m\n\nArguments received by Lambda.call():\n  • args=(['<KerasTensor shape=(None, 100), dtype=int32, sparse=False, name=keras_tensor_4>', '<KerasTensor shape=(None, 100), dtype=int32, sparse=False, name=keras_tensor_5>'],)\n  • kwargs={'mask': ['None', 'None']}",
          "traceback": [
            "\u001b[0;31m---------------------------------------------------------------------------\u001b[0m",
            "\u001b[0;31mNotImplementedError\u001b[0m                       Traceback (most recent call last)",
            "\u001b[0;32m<ipython-input-3-e4b05c063c80>\u001b[0m in \u001b[0;36m<cell line: 0>\u001b[0;34m()\u001b[0m\n\u001b[1;32m     66\u001b[0m     \u001b[0mattn_implementation\u001b[0m\u001b[0;34m=\u001b[0m\u001b[0;34m\"sdpa\"\u001b[0m\u001b[0;34m\u001b[0m\u001b[0;34m\u001b[0m\u001b[0m\n\u001b[1;32m     67\u001b[0m )\n\u001b[0;32m---> 68\u001b[0;31m \u001b[0mmodel\u001b[0m \u001b[0;34m=\u001b[0m \u001b[0mcreate_model\u001b[0m\u001b[0;34m(\u001b[0m\u001b[0mbert_model\u001b[0m\u001b[0;34m)\u001b[0m\u001b[0;34m\u001b[0m\u001b[0;34m\u001b[0m\u001b[0m\n\u001b[0m\u001b[1;32m     69\u001b[0m model.compile(\n\u001b[1;32m     70\u001b[0m     \u001b[0moptimizer\u001b[0m\u001b[0;34m=\u001b[0m\u001b[0;34m'adam'\u001b[0m\u001b[0;34m,\u001b[0m\u001b[0;34m\u001b[0m\u001b[0;34m\u001b[0m\u001b[0m\n",
            "\u001b[0;32m<ipython-input-3-e4b05c063c80>\u001b[0m in \u001b[0;36mcreate_model\u001b[0;34m(bert_model)\u001b[0m\n\u001b[1;32m     46\u001b[0m \u001b[0;34m\u001b[0m\u001b[0m\n\u001b[1;32m     47\u001b[0m     \u001b[0;31m# Create branches\u001b[0m\u001b[0;34m\u001b[0m\u001b[0;34m\u001b[0m\u001b[0m\n\u001b[0;32m---> 48\u001b[0;31m     \u001b[0mtext_inputs\u001b[0m\u001b[0;34m,\u001b[0m \u001b[0mtext_output\u001b[0m \u001b[0;34m=\u001b[0m \u001b[0mcreate_text_branch\u001b[0m\u001b[0;34m(\u001b[0m\u001b[0mbert\u001b[0m\u001b[0;34m,\u001b[0m \u001b[0muse_cnn\u001b[0m\u001b[0;34m=\u001b[0m\u001b[0;32mTrue\u001b[0m\u001b[0;34m)\u001b[0m\u001b[0;34m\u001b[0m\u001b[0;34m\u001b[0m\u001b[0m\n\u001b[0m\u001b[1;32m     49\u001b[0m     \u001b[0msocial_input\u001b[0m\u001b[0;34m,\u001b[0m \u001b[0msocial_output\u001b[0m \u001b[0;34m=\u001b[0m \u001b[0mcreate_social_branch\u001b[0m\u001b[0;34m(\u001b[0m\u001b[0;34m(\u001b[0m\u001b[0mlen\u001b[0m\u001b[0;34m(\u001b[0m\u001b[0msocial_features\u001b[0m\u001b[0;34m)\u001b[0m\u001b[0;34m,\u001b[0m\u001b[0;34m)\u001b[0m\u001b[0;34m,\u001b[0m \u001b[0muse_cnn\u001b[0m\u001b[0;34m=\u001b[0m\u001b[0;32mTrue\u001b[0m\u001b[0;34m)\u001b[0m\u001b[0;34m\u001b[0m\u001b[0;34m\u001b[0m\u001b[0m\n\u001b[1;32m     50\u001b[0m \u001b[0;34m\u001b[0m\u001b[0m\n",
            "\u001b[0;32m<ipython-input-3-e4b05c063c80>\u001b[0m in \u001b[0;36mcreate_text_branch\u001b[0;34m(bert_model, use_cnn)\u001b[0m\n\u001b[1;32m     14\u001b[0m         \u001b[0;32mreturn\u001b[0m \u001b[0moutputs\u001b[0m\u001b[0;34m.\u001b[0m\u001b[0mlast_hidden_state\u001b[0m\u001b[0;34m.\u001b[0m\u001b[0mnumpy\u001b[0m\u001b[0;34m(\u001b[0m\u001b[0;34m)\u001b[0m\u001b[0;34m\u001b[0m\u001b[0;34m\u001b[0m\u001b[0m\n\u001b[1;32m     15\u001b[0m \u001b[0;34m\u001b[0m\u001b[0m\n\u001b[0;32m---> 16\u001b[0;31m     \u001b[0mbert_output\u001b[0m \u001b[0;34m=\u001b[0m \u001b[0mlayers\u001b[0m\u001b[0;34m.\u001b[0m\u001b[0mLambda\u001b[0m\u001b[0;34m(\u001b[0m\u001b[0mbert_layer\u001b[0m\u001b[0;34m)\u001b[0m\u001b[0;34m(\u001b[0m\u001b[0;34m[\u001b[0m\u001b[0minput_ids\u001b[0m\u001b[0;34m,\u001b[0m \u001b[0mattention_mask\u001b[0m\u001b[0;34m]\u001b[0m\u001b[0;34m)\u001b[0m\u001b[0;34m\u001b[0m\u001b[0;34m\u001b[0m\u001b[0m\n\u001b[0m\u001b[1;32m     17\u001b[0m \u001b[0;34m\u001b[0m\u001b[0m\n\u001b[1;32m     18\u001b[0m     \u001b[0;32mif\u001b[0m \u001b[0muse_cnn\u001b[0m\u001b[0;34m:\u001b[0m\u001b[0;34m\u001b[0m\u001b[0;34m\u001b[0m\u001b[0m\n",
            "\u001b[0;32m/usr/local/lib/python3.11/dist-packages/keras/src/utils/traceback_utils.py\u001b[0m in \u001b[0;36merror_handler\u001b[0;34m(*args, **kwargs)\u001b[0m\n\u001b[1;32m    120\u001b[0m             \u001b[0;31m# To get the full stack trace, call:\u001b[0m\u001b[0;34m\u001b[0m\u001b[0;34m\u001b[0m\u001b[0m\n\u001b[1;32m    121\u001b[0m             \u001b[0;31m# `keras.config.disable_traceback_filtering()`\u001b[0m\u001b[0;34m\u001b[0m\u001b[0;34m\u001b[0m\u001b[0m\n\u001b[0;32m--> 122\u001b[0;31m             \u001b[0;32mraise\u001b[0m \u001b[0me\u001b[0m\u001b[0;34m.\u001b[0m\u001b[0mwith_traceback\u001b[0m\u001b[0;34m(\u001b[0m\u001b[0mfiltered_tb\u001b[0m\u001b[0;34m)\u001b[0m \u001b[0;32mfrom\u001b[0m \u001b[0;32mNone\u001b[0m\u001b[0;34m\u001b[0m\u001b[0;34m\u001b[0m\u001b[0m\n\u001b[0m\u001b[1;32m    123\u001b[0m         \u001b[0;32mfinally\u001b[0m\u001b[0;34m:\u001b[0m\u001b[0;34m\u001b[0m\u001b[0;34m\u001b[0m\u001b[0m\n\u001b[1;32m    124\u001b[0m             \u001b[0;32mdel\u001b[0m \u001b[0mfiltered_tb\u001b[0m\u001b[0;34m\u001b[0m\u001b[0;34m\u001b[0m\u001b[0m\n",
            "\u001b[0;32m/usr/local/lib/python3.11/dist-packages/keras/src/layers/core/lambda_layer.py\u001b[0m in \u001b[0;36mcompute_output_shape\u001b[0;34m(self, input_shape)\u001b[0m\n\u001b[1;32m     93\u001b[0m                 \u001b[0;32mreturn\u001b[0m \u001b[0mtree\u001b[0m\u001b[0;34m.\u001b[0m\u001b[0mmap_structure\u001b[0m\u001b[0;34m(\u001b[0m\u001b[0;32mlambda\u001b[0m \u001b[0mx\u001b[0m\u001b[0;34m:\u001b[0m \u001b[0mx\u001b[0m\u001b[0;34m.\u001b[0m\u001b[0mshape\u001b[0m\u001b[0;34m,\u001b[0m \u001b[0moutput_spec\u001b[0m\u001b[0;34m)\u001b[0m\u001b[0;34m\u001b[0m\u001b[0;34m\u001b[0m\u001b[0m\n\u001b[1;32m     94\u001b[0m             \u001b[0;32mexcept\u001b[0m\u001b[0;34m:\u001b[0m\u001b[0;34m\u001b[0m\u001b[0;34m\u001b[0m\u001b[0m\n\u001b[0;32m---> 95\u001b[0;31m                 raise NotImplementedError(\n\u001b[0m\u001b[1;32m     96\u001b[0m                     \u001b[0;34m\"We could not automatically infer the shape of \"\u001b[0m\u001b[0;34m\u001b[0m\u001b[0;34m\u001b[0m\u001b[0m\n\u001b[1;32m     97\u001b[0m                     \u001b[0;34m\"the Lambda's output. Please specify the `output_shape` \"\u001b[0m\u001b[0;34m\u001b[0m\u001b[0;34m\u001b[0m\u001b[0m\n",
            "\u001b[0;31mNotImplementedError\u001b[0m: Exception encountered when calling Lambda.call().\n\n\u001b[1mWe could not automatically infer the shape of the Lambda's output. Please specify the `output_shape` argument for this Lambda layer.\u001b[0m\n\nArguments received by Lambda.call():\n  • args=(['<KerasTensor shape=(None, 100), dtype=int32, sparse=False, name=keras_tensor_4>', '<KerasTensor shape=(None, 100), dtype=int32, sparse=False, name=keras_tensor_5>'],)\n  • kwargs={'mask': ['None', 'None']}"
          ]
        }
      ],
      "source": [
        "import pandas as pd\n",
        "import numpy as np\n",
        "import torch\n",
        "from transformers import BertTokenizer, BertModel\n",
        "from tensorflow.keras import layers, Model\n",
        "import tensorflow as tf\n",
        "\n",
        "\n",
        "# Text Branch with BERT - Fixed version\n",
        "def create_text_branch(bert_model, use_cnn=True):\n",
        "    input_ids = layers.Input(shape=(max_len,), dtype=tf.int32)\n",
        "    attention_mask = layers.Input(shape=(max_len,), dtype=tf.int32)\n",
        "\n",
        "    # Define BERT layer with explicit output shape\n",
        "    def bert_layer(inputs):\n",
        "        input_ids, attention_mask = inputs\n",
        "        with torch.no_grad():\n",
        "            outputs = bert_model(\n",
        "                input_ids=torch.tensor(input_ids.numpy()),\n",
        "                attention_mask=torch.tensor(attention_mask.numpy())\n",
        "            )\n",
        "        return outputs.last_hidden_state.numpy()\n",
        "\n",
        "    # BERT output shape: (batch_size, max_len, 768)\n",
        "    bert_output = layers.Lambda(\n",
        "        bert_layer,\n",
        "        output_shape=(max_len, 768)\n",
        "    )([input_ids, attention_mask])\n",
        "\n",
        "    if use_cnn:\n",
        "        x = layers.Conv1D(64, 5, activation='relu')(bert_output)\n",
        "        x = layers.MaxPooling1D(5)(x)\n",
        "\n",
        "    x = layers.Flatten()(x)\n",
        "    return [input_ids, attention_mask], x\n",
        "\n",
        "# Social Branch (unchanged)\n",
        "def create_social_branch(input_shape, use_cnn=True):\n",
        "    inputs = layers.Input(shape=input_shape)\n",
        "    x = layers.Dense(64, activation='relu')(inputs)\n",
        "\n",
        "    if use_cnn:\n",
        "        x = layers.Reshape((-1, 1))(x)\n",
        "        x = layers.Conv1D(32, 3, activation='relu')(x)\n",
        "        x = layers.MaxPooling1D(2)(x)\n",
        "\n",
        "    x = layers.Flatten()(x)\n",
        "    return inputs, x\n",
        "\n",
        "# Complete model (unchanged except for using the fixed text branch)\n",
        "def create_model(bert_model):\n",
        "    bert = BertModel.from_pretrained(\n",
        "        \"bert-base-uncased\",\n",
        "        torch_dtype=torch.float16,\n",
        "        attn_implementation=\"sdpa\"\n",
        "    )\n",
        "\n",
        "    text_inputs, text_output = create_text_branch(bert, use_cnn=True)\n",
        "    social_input, social_output = create_social_branch((len(social_features),), use_cnn=True)\n",
        "\n",
        "    combined = layers.concatenate([text_output, social_output])\n",
        "    x = layers.Dense(128, activation='relu')(combined)\n",
        "    x = layers.Dropout(0.3)(x)\n",
        "    outputs = layers.Dense(1, activation='sigmoid')(x)\n",
        "\n",
        "    model = Model(inputs=[text_inputs, social_input], outputs=outputs)\n",
        "    return model\n",
        "\n",
        "# [Rest of the code - compilation, training, evaluation - remains the same...]\n",
        "\n",
        "# Create and compile\n",
        "bert_model = BertModel.from_pretrained(\n",
        "    \"bert-base-uncased\",\n",
        "    torch_dtype=torch.float16,\n",
        "    attn_implementation=\"sdpa\"\n",
        ")\n",
        "model = create_model(bert_model)\n",
        "model.compile(\n",
        "    optimizer='adam',\n",
        "    loss='binary_crossentropy',\n",
        "    metrics=['accuracy', tf.keras.metrics.Precision(), tf.keras.metrics.Recall()]\n",
        ")\n",
        "\n",
        "model.summary()\n",
        "\n",
        "# Train\n",
        "history = model.fit(\n",
        "    [input_ids_tf, attention_mask_tf, social_data_tf],\n",
        "    labels_tf,\n",
        "    epochs=10,\n",
        "    batch_size=16,\n",
        "    validation_split=0.2\n",
        ")"
      ]
    }
  ]
}