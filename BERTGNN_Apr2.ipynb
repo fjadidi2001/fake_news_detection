{
  "nbformat": 4,
  "nbformat_minor": 0,
  "metadata": {
    "colab": {
      "provenance": [],
      "authorship_tag": "ABX9TyOdmHcaB053OlGhetVUMHlq",
      "include_colab_link": true
    },
    "kernelspec": {
      "name": "python3",
      "display_name": "Python 3"
    },
    "language_info": {
      "name": "python"
    }
  },
  "cells": [
    {
      "cell_type": "markdown",
      "metadata": {
        "id": "view-in-github",
        "colab_type": "text"
      },
      "source": [
        "<a href=\"https://colab.research.google.com/github/fjadidi2001/fake_news_detection/blob/main/BERTGNN_Apr2.ipynb\" target=\"_parent\"><img src=\"https://colab.research.google.com/assets/colab-badge.svg\" alt=\"Open In Colab\"/></a>"
      ]
    },
    {
      "cell_type": "markdown",
      "source": [
        "# Problem Definition\n",
        "> combining Graph Neural Networks (GNNs) for social network analysis and BERT for text processing, with the facebook-fact-check.csv dataset and the embedding/modeling scripts. This dataset includes social network features (share_count, reaction_count, comment_count) and text (Context Post), making it a great fit for this hybrid approach. **The goal is to classify posts (e.g., binary classification: \"mostly true\" vs. others) by integrating graph-based social interactions and text semantics.**\n",
        "\n"
      ],
      "metadata": {
        "id": "Gt_Y6jxn3chL"
      }
    },
    {
      "cell_type": "markdown",
      "source": [
        "# Project Overview\n",
        "\n"
      ],
      "metadata": {
        "id": "MQyRkyk44ocK"
      }
    },
    {
      "cell_type": "markdown",
      "source": [
        "- Objective: Classify Facebook posts’ veracity using social network structure (via GNN) and text content (via BERT).\n",
        "\n",
        "- Dataset: facebook-fact-check.csv (2282 rows, with account_id, post_id, network features, and Context Post).\n",
        "\n",
        "- Output: Binary classification (0: \"mostly true\", 1: others).\n",
        "\n"
      ],
      "metadata": {
        "id": "NaxtPdSp4qOx"
      }
    },
    {
      "cell_type": "markdown",
      "source": [
        "# Step-by-Step Development Process\n",
        "\n"
      ],
      "metadata": {
        "id": "JcL1Vpy447rj"
      }
    },
    {
      "cell_type": "markdown",
      "source": [
        "# Mount to Drive"
      ],
      "metadata": {
        "id": "ezBxol3P2xRE"
      }
    },
    {
      "cell_type": "code",
      "execution_count": null,
      "metadata": {
        "id": "X5xAj_Do2OG9"
      },
      "outputs": [],
      "source": []
    }
  ]
}