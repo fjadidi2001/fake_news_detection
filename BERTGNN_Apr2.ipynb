{
  "nbformat": 4,
  "nbformat_minor": 0,
  "metadata": {
    "colab": {
      "provenance": [],
      "gpuType": "T4",
      "authorship_tag": "ABX9TyOrMKKxIWnxUzIYA/tI4S+z",
      "include_colab_link": true
    },
    "kernelspec": {
      "name": "python3",
      "display_name": "Python 3"
    },
    "language_info": {
      "name": "python"
    },
    "accelerator": "GPU"
  },
  "cells": [
    {
      "cell_type": "markdown",
      "metadata": {
        "id": "view-in-github",
        "colab_type": "text"
      },
      "source": [
        "<a href=\"https://colab.research.google.com/github/fjadidi2001/fake_news_detection/blob/main/BERTGNN_Apr2.ipynb\" target=\"_parent\"><img src=\"https://colab.research.google.com/assets/colab-badge.svg\" alt=\"Open In Colab\"/></a>"
      ]
    },
    {
      "cell_type": "markdown",
      "source": [
        "# Problem Definition\n",
        "> combining Graph Neural Networks (GNNs) for social network analysis and BERT for text processing, with the facebook-fact-check.csv dataset and the embedding/modeling scripts. This dataset includes social network features (share_count, reaction_count, comment_count) and text (Context Post), making it a great fit for this hybrid approach. **The goal is to classify posts (e.g., binary classification: \"mostly true\" vs. others) by integrating graph-based social interactions and text semantics.**\n",
        "\n"
      ],
      "metadata": {
        "id": "Gt_Y6jxn3chL"
      }
    },
    {
      "cell_type": "markdown",
      "source": [
        "# Project Overview\n",
        "\n"
      ],
      "metadata": {
        "id": "MQyRkyk44ocK"
      }
    },
    {
      "cell_type": "markdown",
      "source": [
        "- Objective: Classify Facebook posts’ veracity using social network structure (via GNN) and text content (via BERT).\n",
        "\n",
        "- Dataset: facebook-fact-check.csv (2282 rows, with account_id, post_id, network features, and Context Post).\n",
        "\n",
        "- Output: Binary classification (0: \"mostly true\", 1: others).\n",
        "\n"
      ],
      "metadata": {
        "id": "NaxtPdSp4qOx"
      }
    },
    {
      "cell_type": "markdown",
      "source": [
        "# Step-by-Step Development Process\n",
        "\n"
      ],
      "metadata": {
        "id": "JcL1Vpy447rj"
      }
    },
    {
      "cell_type": "markdown",
      "source": [
        "## Step 1: Data Preprocessing and Exploration\n",
        "\n",
        "> Goal: Prepare the dataset for GNN and BERT, ensuring compatibility with both models.\n",
        "\n",
        "Tasks:\n",
        "\n",
        "1. Load and Inspect Data: Use the existing embedding script’s loading logic.\n",
        "\n",
        "2. Labels: Map Rating to binary labels (0 vs. 1).\n",
        "\n",
        "3. Network Features: Extract share_count, reaction_count, comment_count and standardize them.\n",
        "\n",
        "4. Graph Construction: Create a graph where nodes are posts (post_id), edges are based on shared account_id or interactions (e.g., co-occurring in the dataset), and node features are network metrics.\n",
        "\n",
        "5. Text Data: Keep Context Post raw for BERT input (no tokenization yet; BERT handles it internally).\n",
        "\n"
      ],
      "metadata": {
        "id": "KdmY0ymL5KhR"
      }
    },
    {
      "cell_type": "code",
      "execution_count": 5,
      "metadata": {
        "id": "X5xAj_Do2OG9",
        "colab": {
          "base_uri": "https://localhost:8080/"
        },
        "outputId": "ee4cca4f-e2b6-40a6-8966-f8238874eec5"
      },
      "outputs": [
        {
          "output_type": "stream",
          "name": "stdout",
          "text": [
            "Mounted at /content/drive\n",
            "Label distribution: [1669  613]\n",
            "X_network shape: (2282, 3)\n",
            "Graph nodes: 2282 Edges: 368312\n"
          ]
        }
      ],
      "source": [
        "import pandas as pd\n",
        "import numpy as np\n",
        "from scipy import io as sio\n",
        "from sklearn.preprocessing import StandardScaler\n",
        "from google.colab import drive\n",
        "import networkx as nx\n",
        "\n",
        "drive.mount('/content/drive')\n",
        "file_path = '/content/drive/MyDrive/Projects/Hayat/facebook-fact-check.csv'\n",
        "df = pd.read_csv(file_path, encoding='latin-1')\n",
        "\n",
        "# Label mapping\n",
        "label2id = {'mostly true': 0, 'mixture of true and false': 1, 'no factual content': 1, 'mostly false': 1}\n",
        "df['Rating'] = df['Rating'].map(label2id)\n",
        "y = df['Rating'].astype(int).to_numpy()\n",
        "print(\"Label distribution:\", np.bincount(y))\n",
        "\n",
        "# Network features\n",
        "network_cols = ['share_count', 'reaction_count', 'comment_count']\n",
        "X_network = df[network_cols].fillna(0).to_numpy()\n",
        "scaler = StandardScaler()\n",
        "X_net_std = scaler.fit_transform(X_network)\n",
        "print(\"X_network shape:\", X_net_std.shape)  # (2282, 3)\n",
        "\n",
        "# Graph construction: Use row indices as nodes\n",
        "G = nx.Graph()\n",
        "for idx in range(len(df)):\n",
        "    G.add_node(idx, features=X_net_std[idx])\n",
        "\n",
        "# Add edges between posts with same account_id\n",
        "account_groups = df.groupby('account_id').indices\n",
        "for account_id, indices in account_groups.items():\n",
        "    indices = list(indices)\n",
        "    for i in range(len(indices)):\n",
        "        for j in range(i + 1, len(indices)):\n",
        "            G.add_edge(indices[i], indices[j])\n",
        "\n",
        "print(\"Graph nodes:\", G.number_of_nodes(), \"Edges:\", G.number_of_edges())\n",
        "\n",
        "# Save for later use\n",
        "sio.savemat('labels.mat', {'y': y})\n",
        "sio.savemat('network.mat', {'X_net_std': X_net_std})"
      ]
    },
    {
      "cell_type": "markdown",
      "source": [
        "# Step 2: Graph Neural Network (GNN) Setup\n",
        "\n",
        "> Goal: Model social network interactions using a GNN (e.g., Graph Convolutional Network, GCN).\n",
        "- Tools: Use torch_geometric for GNN implementation.\n",
        "\n",
        "\n",
        "Tasks:\n",
        "- Convert Graph to PyTorch Geometric Format: Map network.mat features to nodes and define edges.\n",
        "\n",
        "- Define GCN Model: Process node features (3D network data) to produce node embeddings.\n",
        "\n",
        "- Output: GNN embeddings for each post (e.g., 128D per node).\n"
      ],
      "metadata": {
        "id": "hrydMfTI7EK9"
      }
    },
    {
      "cell_type": "code",
      "source": [
        "!pip install torch torch-geometric -q\n"
      ],
      "metadata": {
        "colab": {
          "base_uri": "https://localhost:8080/"
        },
        "id": "9EVQay1sARzK",
        "outputId": "b6101b38-053f-4533-ed12-744a3c4a8eab"
      },
      "execution_count": 6,
      "outputs": [
        {
          "output_type": "stream",
          "name": "stdout",
          "text": [
            "\u001b[2K     \u001b[90m━━━━━━━━━━━━━━━━━━━━━━━━━━━━━━━━━━━━━━━━\u001b[0m \u001b[32m63.1/63.1 kB\u001b[0m \u001b[31m3.2 MB/s\u001b[0m eta \u001b[36m0:00:00\u001b[0m\n",
            "\u001b[2K   \u001b[90m━━━━━━━━━━━━━━━━━━━━━━━━━━━━━━━━━━━━━━━━\u001b[0m \u001b[32m363.4/363.4 MB\u001b[0m \u001b[31m5.1 MB/s\u001b[0m eta \u001b[36m0:00:00\u001b[0m\n",
            "\u001b[2K   \u001b[90m━━━━━━━━━━━━━━━━━━━━━━━━━━━━━━━━━━━━━━━━\u001b[0m \u001b[32m13.8/13.8 MB\u001b[0m \u001b[31m103.8 MB/s\u001b[0m eta \u001b[36m0:00:00\u001b[0m\n",
            "\u001b[2K   \u001b[90m━━━━━━━━━━━━━━━━━━━━━━━━━━━━━━━━━━━━━━━━\u001b[0m \u001b[32m24.6/24.6 MB\u001b[0m \u001b[31m84.1 MB/s\u001b[0m eta \u001b[36m0:00:00\u001b[0m\n",
            "\u001b[2K   \u001b[90m━━━━━━━━━━━━━━━━━━━━━━━━━━━━━━━━━━━━━━━━\u001b[0m \u001b[32m883.7/883.7 kB\u001b[0m \u001b[31m49.6 MB/s\u001b[0m eta \u001b[36m0:00:00\u001b[0m\n",
            "\u001b[2K   \u001b[90m━━━━━━━━━━━━━━━━━━━━━━━━━━━━━━━━━━━━━━━━\u001b[0m \u001b[32m664.8/664.8 MB\u001b[0m \u001b[31m2.9 MB/s\u001b[0m eta \u001b[36m0:00:00\u001b[0m\n",
            "\u001b[2K   \u001b[90m━━━━━━━━━━━━━━━━━━━━━━━━━━━━━━━━━━━━━━━━\u001b[0m \u001b[32m211.5/211.5 MB\u001b[0m \u001b[31m4.8 MB/s\u001b[0m eta \u001b[36m0:00:00\u001b[0m\n",
            "\u001b[2K   \u001b[90m━━━━━━━━━━━━━━━━━━━━━━━━━━━━━━━━━━━━━━━━\u001b[0m \u001b[32m56.3/56.3 MB\u001b[0m \u001b[31m11.7 MB/s\u001b[0m eta \u001b[36m0:00:00\u001b[0m\n",
            "\u001b[2K   \u001b[90m━━━━━━━━━━━━━━━━━━━━━━━━━━━━━━━━━━━━━━━━\u001b[0m \u001b[32m127.9/127.9 MB\u001b[0m \u001b[31m9.2 MB/s\u001b[0m eta \u001b[36m0:00:00\u001b[0m\n",
            "\u001b[2K   \u001b[90m━━━━━━━━━━━━━━━━━━━━━━━━━━━━━━━━━━━━━━━━\u001b[0m \u001b[32m207.5/207.5 MB\u001b[0m \u001b[31m5.6 MB/s\u001b[0m eta \u001b[36m0:00:00\u001b[0m\n",
            "\u001b[2K   \u001b[90m━━━━━━━━━━━━━━━━━━━━━━━━━━━━━━━━━━━━━━━━\u001b[0m \u001b[32m21.1/21.1 MB\u001b[0m \u001b[31m61.6 MB/s\u001b[0m eta \u001b[36m0:00:00\u001b[0m\n",
            "\u001b[2K   \u001b[90m━━━━━━━━━━━━━━━━━━━━━━━━━━━━━━━━━━━━━━━━\u001b[0m \u001b[32m1.1/1.1 MB\u001b[0m \u001b[31m31.8 MB/s\u001b[0m eta \u001b[36m0:00:00\u001b[0m\n",
            "\u001b[?25h"
          ]
        }
      ]
    },
    {
      "cell_type": "code",
      "source": [
        "import torch\n",
        "from torch_geometric.data import Data\n",
        "from torch_geometric.nn import GCNConv\n",
        "from torch_geometric.utils import add_self_loops\n",
        "import numpy as np\n",
        "import os"
      ],
      "metadata": {
        "id": "hHHj84g_A6O-"
      },
      "execution_count": 7,
      "outputs": []
    },
    {
      "cell_type": "code",
      "source": [
        "\n",
        "# Reset CUDA environment\n",
        "torch.cuda.empty_cache()\n",
        "os.environ[\"CUDA_LAUNCH_BLOCKING\"] = \"1\"  # For precise CUDA error reporting\n",
        "\n",
        "# Load network features\n",
        "X_net_std = sio.loadmat('network.mat')['X_net_std']  # (2282, 3)\n",
        "\n",
        "# Edge index from graph (using row indices)\n",
        "edges = list(G.edges)\n",
        "edge_index = torch.tensor(edges, dtype=torch.long).t().contiguous()\n",
        "x = torch.tensor(X_net_std, dtype=torch.float)  # Node features (2282, 3)\n",
        "\n",
        "# Verify edge_index validity\n",
        "print(\"Max edge index:\", edge_index.max(), \"Num nodes:\", x.shape[0])\n",
        "assert edge_index.max() < x.shape[0], \"Edge indices exceed number of nodes!\"\n",
        "\n",
        "# Create PyTorch Geometric data object\n",
        "data = Data(x=x, edge_index=edge_index)\n",
        "print(\"GNN Data before self-loops:\", data)\n",
        "\n",
        "# Add self-loops\n",
        "edge_index, _ = add_self_loops(data.edge_index, num_nodes=data.num_nodes)\n",
        "data.edge_index = edge_index\n",
        "print(\"GNN Data after self-loops:\", data)\n",
        "\n",
        "# Define GCN model\n",
        "class GCN(torch.nn.Module):\n",
        "    def __init__(self, in_channels=3, hidden_channels=64, out_channels=128):\n",
        "        super(GCN, self).__init__()\n",
        "        self.conv1 = GCNConv(in_channels, hidden_channels)\n",
        "        self.conv2 = GCNConv(hidden_channels, out_channels)\n",
        "        self.relu = torch.nn.ReLU()\n",
        "\n",
        "    def forward(self, data):\n",
        "        x, edge_index = data.x, data.edge_index\n",
        "        x = self.conv1(x, edge_index)\n",
        "        x = self.relu(x)\n",
        "        x = self.conv2(x, edge_index)\n",
        "        return x\n",
        "\n",
        "# Test on CPU first\n",
        "print(\"\\nRunning on CPU:\")\n",
        "device = torch.device('cpu')\n",
        "gcn_model = GCN().to(device)\n",
        "data = data.to(device)\n",
        "gcn_embeddings = gcn_model(data)\n",
        "print(\"GCN Embeddings shape (CPU):\", gcn_embeddings.shape)\n",
        "\n",
        "# Then try CUDA\n",
        "print(\"\\nRunning on CUDA:\")\n",
        "device = torch.device('cuda' if torch.cuda.is_available() else 'cpu')\n",
        "gcn_model = GCN().to(device)\n",
        "data = data.to(device)\n",
        "gcn_embeddings = gcn_model(data)\n",
        "print(\"GCN Embeddings shape (CUDA):\", gcn_embeddings.shape)"
      ],
      "metadata": {
        "colab": {
          "base_uri": "https://localhost:8080/",
          "height": 349
        },
        "id": "WFRCWi_67kDH",
        "outputId": "13b67ee2-d6f0-44c5-ed18-12d4134a1343"
      },
      "execution_count": null,
      "outputs": [
        {
          "output_type": "stream",
          "name": "stdout",
          "text": [
            "Collecting sio\n",
            "  Downloading sio-0.1.0-py3-none-any.whl.metadata (760 bytes)\n",
            "Collecting shortio>=0.1.0 (from sio)\n",
            "  Downloading shortio-0.1.0-py3-none-any.whl.metadata (1.5 kB)\n",
            "Downloading sio-0.1.0-py3-none-any.whl (2.5 kB)\n",
            "Downloading shortio-0.1.0-py3-none-any.whl (4.9 kB)\n",
            "Installing collected packages: shortio, sio\n",
            "Successfully installed shortio-0.1.0 sio-0.1.0\n"
          ]
        },
        {
          "output_type": "error",
          "ename": "NameError",
          "evalue": "name 'sio' is not defined",
          "traceback": [
            "\u001b[0;31m---------------------------------------------------------------------------\u001b[0m",
            "\u001b[0;31mNameError\u001b[0m                                 Traceback (most recent call last)",
            "\u001b[0;32m<ipython-input-2-af79e1c7acab>\u001b[0m in \u001b[0;36m<cell line: 0>\u001b[0;34m()\u001b[0m\n\u001b[1;32m     13\u001b[0m \u001b[0;34m\u001b[0m\u001b[0m\n\u001b[1;32m     14\u001b[0m \u001b[0;31m# Load network features\u001b[0m\u001b[0;34m\u001b[0m\u001b[0;34m\u001b[0m\u001b[0m\n\u001b[0;32m---> 15\u001b[0;31m \u001b[0mX_net_std\u001b[0m \u001b[0;34m=\u001b[0m \u001b[0msio\u001b[0m\u001b[0;34m.\u001b[0m\u001b[0mloadmat\u001b[0m\u001b[0;34m(\u001b[0m\u001b[0;34m'network.mat'\u001b[0m\u001b[0;34m)\u001b[0m\u001b[0;34m[\u001b[0m\u001b[0;34m'X_net_std'\u001b[0m\u001b[0;34m]\u001b[0m  \u001b[0;31m# (2282, 3)\u001b[0m\u001b[0;34m\u001b[0m\u001b[0;34m\u001b[0m\u001b[0m\n\u001b[0m\u001b[1;32m     16\u001b[0m \u001b[0;34m\u001b[0m\u001b[0m\n\u001b[1;32m     17\u001b[0m \u001b[0;31m# Edge index from graph (using row indices)\u001b[0m\u001b[0;34m\u001b[0m\u001b[0;34m\u001b[0m\u001b[0m\n",
            "\u001b[0;31mNameError\u001b[0m: name 'sio' is not defined"
          ]
        }
      ]
    },
    {
      "cell_type": "code",
      "source": [],
      "metadata": {
        "id": "BuOJrqvK-sJK"
      },
      "execution_count": null,
      "outputs": []
    }
  ]
}