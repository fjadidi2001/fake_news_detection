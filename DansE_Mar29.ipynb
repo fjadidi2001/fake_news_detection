{
  "nbformat": 4,
  "nbformat_minor": 0,
  "metadata": {
    "colab": {
      "provenance": [],
      "gpuType": "T4",
      "authorship_tag": "ABX9TyOMsGKLIgZ75vODxPmu20YN",
      "include_colab_link": true
    },
    "kernelspec": {
      "name": "python3",
      "display_name": "Python 3"
    },
    "language_info": {
      "name": "python"
    },
    "accelerator": "GPU"
  },
  "cells": [
    {
      "cell_type": "markdown",
      "metadata": {
        "id": "view-in-github",
        "colab_type": "text"
      },
      "source": [
        "<a href=\"https://colab.research.google.com/github/fjadidi2001/fake_news_detection/blob/main/DansE_Mar29.ipynb\" target=\"_parent\"><img src=\"https://colab.research.google.com/assets/colab-badge.svg\" alt=\"Open In Colab\"/></a>"
      ]
    },
    {
      "cell_type": "markdown",
      "source": [
        "# Data"
      ],
      "metadata": {
        "id": "oA7Z8kvmccRd"
      }
    },
    {
      "cell_type": "markdown",
      "source": [
        "# Mount Drive in Colab"
      ],
      "metadata": {
        "id": "PxIpn64y8_JC"
      }
    },
    {
      "cell_type": "code",
      "execution_count": 2,
      "metadata": {
        "id": "0Mzv5ciD71hi",
        "colab": {
          "base_uri": "https://localhost:8080/"
        },
        "outputId": "8662d0b2-a055-472b-ae0d-010c883f19cd"
      },
      "outputs": [
        {
          "output_type": "stream",
          "name": "stdout",
          "text": [
            "Drive already mounted at /content/drive; to attempt to forcibly remount, call drive.mount(\"/content/drive\", force_remount=True).\n"
          ]
        }
      ],
      "source": [
        "from google.colab import drive\n",
        "drive.mount('/content/drive')"
      ]
    },
    {
      "cell_type": "markdown",
      "source": [
        "# Load the Dataset\n",
        "\n"
      ],
      "metadata": {
        "id": "9J1bk_HnDc7b"
      }
    },
    {
      "cell_type": "code",
      "source": [
        "import pandas as pd\n",
        "import numpy as np\n",
        "\n",
        "# Replace with your actual file path\n",
        "file_path = '/content/drive/MyDrive/Projects/Hayat/facebook-fact-check.csv'\n",
        "\n",
        "\n",
        "df = pd.read_csv(file_path, encoding='latin-1')"
      ],
      "metadata": {
        "id": "bhyykHvM89kI"
      },
      "execution_count": 6,
      "outputs": []
    },
    {
      "cell_type": "markdown",
      "source": [
        "# Initial Data Inspection"
      ],
      "metadata": {
        "id": "TDzZ-uobD38a"
      }
    },
    {
      "cell_type": "code",
      "source": [
        "print(df.head(2))  # See first 2 rows\n",
        "print(\"\\nMissing values:\\n\", df.isnull().sum())"
      ],
      "metadata": {
        "colab": {
          "base_uri": "https://localhost:8080/"
        },
        "id": "lSYdMJU3DiFH",
        "outputId": "00cc97ec-f4cb-4688-9deb-8f48152fa399"
      },
      "execution_count": 7,
      "outputs": [
        {
          "output_type": "stream",
          "name": "stdout",
          "text": [
            "     account_id       post_id    Category               Page  \\\n",
            "0  1.840000e+14  1.040000e+15  mainstream  ABC News Politics   \n",
            "1  1.840000e+14  1.040000e+15  mainstream  ABC News Politics   \n",
            "\n",
            "                                            Post URL Date Published Post Type  \\\n",
            "0  https://www.facebook.com/ABCNewsPolitics/posts...      9/19/2016     video   \n",
            "1  https://www.facebook.com/ABCNewsPolitics/posts...      9/19/2016      link   \n",
            "\n",
            "               Rating Debate  share_count  reaction_count  comment_count  \\\n",
            "0  no factual content    NaN          NaN           146.0           15.0   \n",
            "1         mostly true    NaN          1.0            33.0           34.0   \n",
            "\n",
            "                                        Context Post  \n",
            "0  WATCH: &quot;JEB EXCLAMATION POINT!&quot; - Je...  \n",
            "1  Can either candidate move the needle in the de...  \n",
            "\n",
            "Missing values:\n",
            " account_id           0\n",
            "post_id              0\n",
            "Category             0\n",
            "Page                 0\n",
            "Post URL             0\n",
            "Date Published       0\n",
            "Post Type            0\n",
            "Rating               0\n",
            "Debate            1984\n",
            "share_count         70\n",
            "reaction_count       2\n",
            "comment_count        2\n",
            "Context Post         0\n",
            "dtype: int64\n"
          ]
        }
      ]
    },
    {
      "cell_type": "markdown",
      "source": [
        "# Handle Missing Values"
      ],
      "metadata": {
        "id": "_hVZN6j7FnqA"
      }
    },
    {
      "cell_type": "code",
      "source": [
        "# Strategy 1: Fill categorical columns\n",
        "df['Rating'] = df['Rating'].fillna('Unknown')\n",
        "df['Debate'] = df['Debate'].fillna('Not Specified')\n",
        "\n",
        "# Strategy 2: Fill numerical columns with median\n",
        "numeric_cols = ['share_count', 'reaction_count', 'comment_count']\n",
        "df[numeric_cols] = df[numeric_cols].fillna(df[numeric_cols].median())\n",
        "\n",
        "# Alternative: Drop rows with critical missing values\n",
        "# df = df.dropna(subset=['important_column'])"
      ],
      "metadata": {
        "id": "CCesok3vEbWX"
      },
      "execution_count": 10,
      "outputs": []
    },
    {
      "cell_type": "markdown",
      "source": [
        "# Additional Preprocessing"
      ],
      "metadata": {
        "id": "GFWw2cFnGKbK"
      }
    },
    {
      "cell_type": "code",
      "source": [
        "# Convert date to datetime format\n",
        "df['Date Published'] = pd.to_datetime(df['Date Published'], format='%m/%d/%Y')\n",
        "\n",
        "# Clean text columns\n",
        "df['Context Post'] = df['Context Post'].str.replace('\"', '')"
      ],
      "metadata": {
        "id": "-jLm9vpHGC-h"
      },
      "execution_count": 12,
      "outputs": []
    },
    {
      "cell_type": "code",
      "source": [
        "df['account_id'] = df['account_id'].astype(str)\n",
        "df['post_id'] = df['post_id'].astype(str)"
      ],
      "metadata": {
        "id": "o2_ZzlhgGlq1"
      },
      "execution_count": 13,
      "outputs": []
    },
    {
      "cell_type": "code",
      "source": [
        "categorical_cols = ['Category', 'Page', 'Post Type']\n",
        "df[categorical_cols] = df[categorical_cols].fillna('Unknown')"
      ],
      "metadata": {
        "id": "DuV4oIehGoMR"
      },
      "execution_count": 14,
      "outputs": []
    },
    {
      "cell_type": "code",
      "source": [
        "print(df.info())\n",
        "print(df.isnull().sum())"
      ],
      "metadata": {
        "colab": {
          "base_uri": "https://localhost:8080/"
        },
        "id": "OgVsdZkBG2KU",
        "outputId": "68894335-114a-414f-e439-f3418852274a"
      },
      "execution_count": 15,
      "outputs": [
        {
          "output_type": "stream",
          "name": "stdout",
          "text": [
            "<class 'pandas.core.frame.DataFrame'>\n",
            "RangeIndex: 2282 entries, 0 to 2281\n",
            "Data columns (total 13 columns):\n",
            " #   Column          Non-Null Count  Dtype         \n",
            "---  ------          --------------  -----         \n",
            " 0   account_id      2282 non-null   object        \n",
            " 1   post_id         2282 non-null   object        \n",
            " 2   Category        2282 non-null   object        \n",
            " 3   Page            2282 non-null   object        \n",
            " 4   Post URL        2282 non-null   object        \n",
            " 5   Date Published  2282 non-null   datetime64[ns]\n",
            " 6   Post Type       2282 non-null   object        \n",
            " 7   Rating          2282 non-null   object        \n",
            " 8   Debate          2282 non-null   object        \n",
            " 9   share_count     2282 non-null   float64       \n",
            " 10  reaction_count  2282 non-null   float64       \n",
            " 11  comment_count   2282 non-null   float64       \n",
            " 12  Context Post    2282 non-null   object        \n",
            "dtypes: datetime64[ns](1), float64(3), object(9)\n",
            "memory usage: 231.9+ KB\n",
            "None\n",
            "account_id        0\n",
            "post_id           0\n",
            "Category          0\n",
            "Page              0\n",
            "Post URL          0\n",
            "Date Published    0\n",
            "Post Type         0\n",
            "Rating            0\n",
            "Debate            0\n",
            "share_count       0\n",
            "reaction_count    0\n",
            "comment_count     0\n",
            "Context Post      0\n",
            "dtype: int64\n"
          ]
        }
      ]
    },
    {
      "cell_type": "code",
      "source": [
        "def processElement(elem):\n",
        "    id_line = elem[0]\n",
        "    text = elem[1]\n",
        "    # Use 'Context Post' instead of 'content' if needed\n",
        "    text = tkn.createCorpus(text, remove_stopwords=False)\n",
        "    return id_line, text"
      ],
      "metadata": {
        "id": "hGiF99i4JzJb"
      },
      "execution_count": 16,
      "outputs": []
    },
    {
      "cell_type": "markdown",
      "source": [
        "# Main"
      ],
      "metadata": {
        "id": "aCRBvyzJsQN6"
      }
    },
    {
      "cell_type": "code",
      "source": [
        "!apt-get install -y build-essential\n",
        "!pip install numpy scipy cython"
      ],
      "metadata": {
        "colab": {
          "base_uri": "https://localhost:8080/"
        },
        "id": "xAVJ_R2asdjE",
        "outputId": "df50e280-f5b5-4f83-baad-f12fff983b1e"
      },
      "execution_count": 1,
      "outputs": [
        {
          "output_type": "stream",
          "name": "stdout",
          "text": [
            "Reading package lists... Done\n",
            "Building dependency tree... Done\n",
            "Reading state information... Done\n",
            "build-essential is already the newest version (12.9ubuntu3).\n",
            "0 upgraded, 0 newly installed, 0 to remove and 29 not upgraded.\n",
            "Requirement already satisfied: numpy in /usr/local/lib/python3.11/dist-packages (2.0.2)\n",
            "Requirement already satisfied: scipy in /usr/local/lib/python3.11/dist-packages (1.14.1)\n",
            "Requirement already satisfied: cython in /usr/local/lib/python3.11/dist-packages (3.0.12)\n"
          ]
        }
      ]
    },
    {
      "cell_type": "code",
      "source": [
        "!git clone https://github.com/maciejkula/glove-python.git\n",
        "%cd glove-python\n",
        "!python setup.py install\n"
      ],
      "metadata": {
        "id": "PJlRN2E8swXw",
        "outputId": "4a21cad5-e7d9-4c74-fb36-e3169bb06ba7",
        "colab": {
          "base_uri": "https://localhost:8080/"
        }
      },
      "execution_count": 2,
      "outputs": [
        {
          "output_type": "stream",
          "name": "stdout",
          "text": [
            "Cloning into 'glove-python'...\n",
            "remote: Enumerating objects: 441, done.\u001b[K\n",
            "remote: Total 441 (delta 0), reused 0 (delta 0), pack-reused 441 (from 1)\u001b[K\n",
            "Receiving objects: 100% (441/441), 369.99 KiB | 16.09 MiB/s, done.\n",
            "Resolving deltas: 100% (241/241), done.\n",
            "/content/glove-python\n",
            "/content/glove-python/setup.py:8: SetuptoolsDeprecationWarning: The test command is disabled and references to it are deprecated.\n",
            "!!\n",
            "\n",
            "        ********************************************************************************\n",
            "        Please remove any references to `setuptools.command.test` in all supported versions of the affected package.\n",
            "\n",
            "        This deprecation is overdue, please update your project and remove deprecated\n",
            "        calls to avoid build errors in the future.\n",
            "        ********************************************************************************\n",
            "\n",
            "!!\n",
            "  from setuptools.command.test import test as TestCommand\n",
            "/usr/local/lib/python3.11/dist-packages/setuptools/dist.py:452: SetuptoolsDeprecationWarning: Invalid dash-separated options\n",
            "!!\n",
            "\n",
            "        ********************************************************************************\n",
            "        Usage of dash-separated 'description-file' will not be supported in future\n",
            "        versions. Please use the underscore name 'description_file' instead.\n",
            "\n",
            "        This deprecation is overdue, please update your project and remove deprecated\n",
            "        calls to avoid build errors in the future.\n",
            "\n",
            "        See https://setuptools.pypa.io/en/latest/userguide/declarative_config.html for details.\n",
            "        ********************************************************************************\n",
            "\n",
            "!!\n",
            "  opt = self.warn_dash_deprecation(opt, section)\n",
            "/usr/local/lib/python3.11/dist-packages/setuptools/_distutils/dist.py:261: UserWarning: Unknown distribution option: 'tests_require'\n",
            "  warnings.warn(msg)\n",
            "running install\n",
            "/usr/local/lib/python3.11/dist-packages/setuptools/_distutils/cmd.py:66: SetuptoolsDeprecationWarning: setup.py install is deprecated.\n",
            "!!\n",
            "\n",
            "        ********************************************************************************\n",
            "        Please avoid running ``setup.py`` directly.\n",
            "        Instead, use pypa/build, pypa/installer or other\n",
            "        standards-based tools.\n",
            "\n",
            "        See https://blog.ganssle.io/articles/2021/10/setup-py-deprecated.html for details.\n",
            "        ********************************************************************************\n",
            "\n",
            "!!\n",
            "  self.initialize_options()\n",
            "/usr/local/lib/python3.11/dist-packages/setuptools/_distutils/cmd.py:66: EasyInstallDeprecationWarning: easy_install command is deprecated.\n",
            "!!\n",
            "\n",
            "        ********************************************************************************\n",
            "        Please avoid running ``setup.py`` and ``easy_install``.\n",
            "        Instead, use pypa/build, pypa/installer or other\n",
            "        standards-based tools.\n",
            "\n",
            "        See https://github.com/pypa/setuptools/issues/917 for details.\n",
            "        ********************************************************************************\n",
            "\n",
            "!!\n",
            "  self.initialize_options()\n",
            "running bdist_egg\n",
            "running egg_info\n",
            "creating glove_python.egg-info\n",
            "writing glove_python.egg-info/PKG-INFO\n",
            "writing dependency_links to glove_python.egg-info/dependency_links.txt\n",
            "writing requirements to glove_python.egg-info/requires.txt\n",
            "writing top-level names to glove_python.egg-info/top_level.txt\n",
            "writing manifest file 'glove_python.egg-info/SOURCES.txt'\n",
            "reading manifest file 'glove_python.egg-info/SOURCES.txt'\n",
            "adding license file 'LICENSE'\n",
            "writing manifest file 'glove_python.egg-info/SOURCES.txt'\n",
            "installing library code to build/bdist.linux-x86_64/egg\n",
            "running install_lib\n",
            "running build_py\n",
            "creating build/lib.linux-x86_64-cpython-311/glove\n",
            "copying glove/corpus.py -> build/lib.linux-x86_64-cpython-311/glove\n",
            "copying glove/__init__.py -> build/lib.linux-x86_64-cpython-311/glove\n",
            "copying glove/glove.py -> build/lib.linux-x86_64-cpython-311/glove\n",
            "creating build/lib.linux-x86_64-cpython-311/glove/metrics\n",
            "copying glove/metrics/accuracy.py -> build/lib.linux-x86_64-cpython-311/glove/metrics\n",
            "copying glove/metrics/__init__.py -> build/lib.linux-x86_64-cpython-311/glove/metrics\n",
            "running build_ext\n",
            "building 'glove.glove_cython' extension\n",
            "creating build/temp.linux-x86_64-cpython-311/glove\n",
            "x86_64-linux-gnu-gcc -Wsign-compare -DNDEBUG -g -fwrapv -O2 -Wall -g -fstack-protector-strong -Wformat -Werror=format-security -g -fwrapv -O2 -fPIC -I/usr/include/python3.11 -c glove/glove_cython.c -o build/temp.linux-x86_64-cpython-311/glove/glove_cython.o -fopenmp -ffast-math -march=native\n",
            "\u001b[01m\u001b[Kglove/glove_cython.c:\u001b[m\u001b[K In function ‘\u001b[01m\u001b[K__Pyx_ListComp_Append\u001b[m\u001b[K’:\n",
            "\u001b[01m\u001b[Kglove/glove_cython.c:886:23:\u001b[m\u001b[K \u001b[01;31m\u001b[Kerror: \u001b[m\u001b[Klvalue required as left operand of assignment\n",
            "  886 |         Py_SIZE(list) \u001b[01;31m\u001b[K=\u001b[m\u001b[K len+1;\n",
            "      |                       \u001b[01;31m\u001b[K^\u001b[m\u001b[K\n",
            "\u001b[01m\u001b[Kglove/glove_cython.c:\u001b[m\u001b[K In function ‘\u001b[01m\u001b[K__Pyx_PyList_Append\u001b[m\u001b[K’:\n",
            "\u001b[01m\u001b[Kglove/glove_cython.c:927:23:\u001b[m\u001b[K \u001b[01;31m\u001b[Kerror: \u001b[m\u001b[Klvalue required as left operand of assignment\n",
            "  927 |         Py_SIZE(list) \u001b[01;31m\u001b[K=\u001b[m\u001b[K len+1;\n",
            "      |                       \u001b[01;31m\u001b[K^\u001b[m\u001b[K\n",
            "\u001b[01m\u001b[Kglove/glove_cython.c:\u001b[m\u001b[K In function ‘\u001b[01m\u001b[K__pyx_tp_dealloc_array\u001b[m\u001b[K’:\n",
            "\u001b[01m\u001b[Kglove/glove_cython.c:14104:5:\u001b[m\u001b[K \u001b[01;31m\u001b[Kerror: \u001b[m\u001b[Klvalue required as increment operand\n",
            "14104 |     \u001b[01;31m\u001b[K++\u001b[m\u001b[KPy_REFCNT(o);\n",
            "      |     \u001b[01;31m\u001b[K^~\u001b[m\u001b[K\n",
            "\u001b[01m\u001b[Kglove/glove_cython.c:14106:5:\u001b[m\u001b[K \u001b[01;31m\u001b[Kerror: \u001b[m\u001b[Klvalue required as decrement operand\n",
            "14106 |     \u001b[01;31m\u001b[K--\u001b[m\u001b[KPy_REFCNT(o);\n",
            "      |     \u001b[01;31m\u001b[K^~\u001b[m\u001b[K\n",
            "\u001b[01m\u001b[Kglove/glove_cython.c:\u001b[m\u001b[K In function ‘\u001b[01m\u001b[K__pyx_tp_dealloc_memoryview\u001b[m\u001b[K’:\n",
            "\u001b[01m\u001b[Kglove/glove_cython.c:14388:5:\u001b[m\u001b[K \u001b[01;31m\u001b[Kerror: \u001b[m\u001b[Klvalue required as increment operand\n",
            "14388 |     \u001b[01;31m\u001b[K++\u001b[m\u001b[KPy_REFCNT(o);\n",
            "      |     \u001b[01;31m\u001b[K^~\u001b[m\u001b[K\n",
            "\u001b[01m\u001b[Kglove/glove_cython.c:14390:5:\u001b[m\u001b[K \u001b[01;31m\u001b[Kerror: \u001b[m\u001b[Klvalue required as decrement operand\n",
            "14390 |     \u001b[01;31m\u001b[K--\u001b[m\u001b[KPy_REFCNT(o);\n",
            "      |     \u001b[01;31m\u001b[K^~\u001b[m\u001b[K\n",
            "\u001b[01m\u001b[Kglove/glove_cython.c:\u001b[m\u001b[K In function ‘\u001b[01m\u001b[K__pyx_tp_dealloc__memoryviewslice\u001b[m\u001b[K’:\n",
            "\u001b[01m\u001b[Kglove/glove_cython.c:14625:5:\u001b[m\u001b[K \u001b[01;31m\u001b[Kerror: \u001b[m\u001b[Klvalue required as increment operand\n",
            "14625 |     \u001b[01;31m\u001b[K++\u001b[m\u001b[KPy_REFCNT(o);\n",
            "      |     \u001b[01;31m\u001b[K^~\u001b[m\u001b[K\n",
            "\u001b[01m\u001b[Kglove/glove_cython.c:14627:5:\u001b[m\u001b[K \u001b[01;31m\u001b[Kerror: \u001b[m\u001b[Klvalue required as decrement operand\n",
            "14627 |     \u001b[01;31m\u001b[K--\u001b[m\u001b[KPy_REFCNT(o);\n",
            "      |     \u001b[01;31m\u001b[K^~\u001b[m\u001b[K\n",
            "\u001b[01m\u001b[Kglove/glove_cython.c:\u001b[m\u001b[K In function ‘\u001b[01m\u001b[K__Pyx_InitCachedConstants\u001b[m\u001b[K’:\n",
            "\u001b[01m\u001b[Kglove/glove_cython.c:15036:246:\u001b[m\u001b[K \u001b[01;35m\u001b[Kwarning: \u001b[m\u001b[Kpassing argument 14 of ‘\u001b[01m\u001b[KPyCode_New\u001b[m\u001b[K’ makes pointer from integer without a cast [\u001b[01;35m\u001b[K\u001b]8;;https://gcc.gnu.org/onlinedocs/gcc/Warning-Options.html#index-Wint-conversion\u0007-Wint-conversion\u001b]8;;\u0007\u001b[m\u001b[K]\n",
            "15036 | _empty_tuple, __pyx_kp_s_home_maciej_Dropbox_code_glove, __pyx_n_s_fit_vectors, \u001b[01;35m\u001b[K20\u001b[m\u001b[K, __pyx_empty_bytes); if (unlikely(!__pyx_codeobj__16)) {__pyx_filename = __pyx_f[0]; __pyx_lineno = 20; __pyx_clineno = __LINE__; goto __pyx_L1_error;}\n",
            "      |                                                                                 \u001b[01;35m\u001b[K^~\u001b[m\u001b[K\n",
            "      |                                                                                 \u001b[01;35m\u001b[K|\u001b[m\u001b[K\n",
            "      |                                                                                 \u001b[01;35m\u001b[Kint\u001b[m\u001b[K\n",
            "\n",
            "\u001b[01m\u001b[Kglove/glove_cython.c:77:72:\u001b[m\u001b[K \u001b[01;36m\u001b[Knote: \u001b[m\u001b[Kin definition of macro ‘\u001b[01m\u001b[K__Pyx_PyCode_New\u001b[m\u001b[K’\n",
            "   77 |           PyCode_New(a, k, l, s, f, code, c, n, v, fv, cell, fn, name, \u001b[01;36m\u001b[Kfline\u001b[m\u001b[K, lnos)\n",
            "      |                                                                        \u001b[01;36m\u001b[K^~~~~\u001b[m\u001b[K\n",
            "In file included from \u001b[01m\u001b[K/usr/include/python3.11/Python.h:52\u001b[m\u001b[K,\n",
            "                 from \u001b[01m\u001b[Kglove/glove_cython.c:20\u001b[m\u001b[K:\n",
            "\u001b[01m\u001b[K/usr/include/python3.11/cpython/code.h:151:33:\u001b[m\u001b[K \u001b[01;36m\u001b[Knote: \u001b[m\u001b[Kexpected ‘\u001b[01m\u001b[KPyObject *\u001b[m\u001b[K’ {aka ‘\u001b[01m\u001b[Kstruct _object *\u001b[m\u001b[K’} but argument is of type ‘\u001b[01m\u001b[Kint\u001b[m\u001b[K’\n",
            "  151 |         PyObject *, PyObject *, \u001b[01;36m\u001b[KPyObject *\u001b[m\u001b[K, int, PyObject *,\n",
            "      |                                 \u001b[01;36m\u001b[K^~~~~~~~~~\u001b[m\u001b[K\n",
            "\u001b[01m\u001b[Kglove/glove_cython.c:15036:250:\u001b[m\u001b[K \u001b[01;35m\u001b[Kwarning: \u001b[m\u001b[Kpassing argument 15 of ‘\u001b[01m\u001b[KPyCode_New\u001b[m\u001b[K’ makes integer from pointer without a cast [\u001b[01;35m\u001b[K\u001b]8;;https://gcc.gnu.org/onlinedocs/gcc/Warning-Options.html#index-Wint-conversion\u0007-Wint-conversion\u001b]8;;\u0007\u001b[m\u001b[K]\n",
            "15036 | ty_tuple, __pyx_kp_s_home_maciej_Dropbox_code_glove, __pyx_n_s_fit_vectors, 20, \u001b[01;35m\u001b[K__pyx_empty_bytes\u001b[m\u001b[K); if (unlikely(!__pyx_codeobj__16)) {__pyx_filename = __pyx_f[0]; __pyx_lineno = 20; __pyx_clineno = __LINE__; goto __pyx_L1_error;}\n",
            "      |                                                                                 \u001b[01;35m\u001b[K^~~~~~~~~~~~~~~~~\u001b[m\u001b[K\n",
            "      |                                                                                 \u001b[01;35m\u001b[K|\u001b[m\u001b[K\n",
            "      |                                                                                 \u001b[01;35m\u001b[KPyObject * {aka struct _object *}\u001b[m\u001b[K\n",
            "\n",
            "\u001b[01m\u001b[Kglove/glove_cython.c:77:79:\u001b[m\u001b[K \u001b[01;36m\u001b[Knote: \u001b[m\u001b[Kin definition of macro ‘\u001b[01m\u001b[K__Pyx_PyCode_New\u001b[m\u001b[K’\n",
            "   77 |           PyCode_New(a, k, l, s, f, code, c, n, v, fv, cell, fn, name, fline, \u001b[01;36m\u001b[Klnos\u001b[m\u001b[K)\n",
            "      |                                                                               \u001b[01;36m\u001b[K^~~~\u001b[m\u001b[K\n",
            "In file included from \u001b[01m\u001b[K/usr/include/python3.11/Python.h:52\u001b[m\u001b[K,\n",
            "                 from \u001b[01m\u001b[Kglove/glove_cython.c:20\u001b[m\u001b[K:\n",
            "\u001b[01m\u001b[K/usr/include/python3.11/cpython/code.h:151:45:\u001b[m\u001b[K \u001b[01;36m\u001b[Knote: \u001b[m\u001b[Kexpected ‘\u001b[01m\u001b[Kint\u001b[m\u001b[K’ but argument is of type ‘\u001b[01m\u001b[KPyObject *\u001b[m\u001b[K’ {aka ‘\u001b[01m\u001b[Kstruct _object *\u001b[m\u001b[K’}\n",
            "  151 |         PyObject *, PyObject *, PyObject *, \u001b[01;36m\u001b[Kint\u001b[m\u001b[K, PyObject *,\n",
            "      |                                             \u001b[01;36m\u001b[K^~~\u001b[m\u001b[K\n",
            "\u001b[01m\u001b[Kglove/glove_cython.c:77:11:\u001b[m\u001b[K \u001b[01;31m\u001b[Kerror: \u001b[m\u001b[Ktoo few arguments to function ‘\u001b[01m\u001b[KPyCode_New\u001b[m\u001b[K’\n",
            "   77 |           \u001b[01;31m\u001b[KPyCode_New\u001b[m\u001b[K(a, k, l, s, f, code, c, n, v, fv, cell, fn, name, fline, lnos)\n",
            "      |           \u001b[01;31m\u001b[K^~~~~~~~~~\u001b[m\u001b[K\n",
            "\u001b[01m\u001b[Kglove/glove_cython.c:15036:34:\u001b[m\u001b[K \u001b[01;36m\u001b[Knote: \u001b[m\u001b[Kin expansion of macro ‘\u001b[01m\u001b[K__Pyx_PyCode_New\u001b[m\u001b[K’\n",
            "15036 |   __pyx_codeobj__16 = (PyObject*)\u001b[01;36m\u001b[K__Pyx_PyCode_New\u001b[m\u001b[K(13, 0, 26, 0, 0, __pyx_empty_bytes, __pyx_empty_tuple, __pyx_empty_tuple, __pyx_tuple__15, __pyx_empty_tuple, __pyx_empty_tuple, __pyx_kp_s_home_maciej_Dropbox_code_glove, __pyx_n_s_fit_vectors, 20, __pyx_empty_bytes); if (unlikely(!__pyx_codeobj__16)) {__pyx_filename = __pyx_f[0]; __pyx_lineno = 20; __pyx_clineno = __LINE__; goto __pyx_L1_error;}\n",
            "      |                                  \u001b[01;36m\u001b[K^~~~~~~~~~~~~~~~\u001b[m\u001b[K\n",
            "In file included from \u001b[01m\u001b[K/usr/include/python3.11/Python.h:52\u001b[m\u001b[K,\n",
            "                 from \u001b[01m\u001b[Kglove/glove_cython.c:20\u001b[m\u001b[K:\n",
            "\u001b[01m\u001b[K/usr/include/python3.11/cpython/code.h:148:28:\u001b[m\u001b[K \u001b[01;36m\u001b[Knote: \u001b[m\u001b[Kdeclared here\n",
            "  148 | PyAPI_FUNC(PyCodeObject *) \u001b[01;36m\u001b[KPyCode_New\u001b[m\u001b[K(\n",
            "      |                            \u001b[01;36m\u001b[K^~~~~~~~~~\u001b[m\u001b[K\n",
            "\u001b[01m\u001b[Kglove/glove_cython.c:15048:254:\u001b[m\u001b[K \u001b[01;35m\u001b[Kwarning: \u001b[m\u001b[Kpassing argument 14 of ‘\u001b[01m\u001b[KPyCode_New\u001b[m\u001b[K’ makes pointer from integer without a cast [\u001b[01;35m\u001b[K\u001b]8;;https://gcc.gnu.org/onlinedocs/gcc/Warning-Options.html#index-Wint-conversion\u0007-Wint-conversion\u001b]8;;\u0007\u001b[m\u001b[K]\n",
            "15048 | uple, __pyx_kp_s_home_maciej_Dropbox_code_glove, __pyx_n_s_transform_paragraph, \u001b[01;35m\u001b[K111\u001b[m\u001b[K, __pyx_empty_bytes); if (unlikely(!__pyx_codeobj__18)) {__pyx_filename = __pyx_f[0]; __pyx_lineno = 111; __pyx_clineno = __LINE__; goto __pyx_L1_error;}\n",
            "      |                                                                                 \u001b[01;35m\u001b[K^~~\u001b[m\u001b[K\n",
            "      |                                                                                 \u001b[01;35m\u001b[K|\u001b[m\u001b[K\n",
            "      |                                                                                 \u001b[01;35m\u001b[Kint\u001b[m\u001b[K\n",
            "\n",
            "\u001b[01m\u001b[Kglove/glove_cython.c:77:72:\u001b[m\u001b[K \u001b[01;36m\u001b[Knote: \u001b[m\u001b[Kin definition of macro ‘\u001b[01m\u001b[K__Pyx_PyCode_New\u001b[m\u001b[K’\n",
            "   77 |           PyCode_New(a, k, l, s, f, code, c, n, v, fv, cell, fn, name, \u001b[01;36m\u001b[Kfline\u001b[m\u001b[K, lnos)\n",
            "      |                                                                        \u001b[01;36m\u001b[K^~~~~\u001b[m\u001b[K\n",
            "In file included from \u001b[01m\u001b[K/usr/include/python3.11/Python.h:52\u001b[m\u001b[K,\n",
            "                 from \u001b[01m\u001b[Kglove/glove_cython.c:20\u001b[m\u001b[K:\n",
            "\u001b[01m\u001b[K/usr/include/python3.11/cpython/code.h:151:33:\u001b[m\u001b[K \u001b[01;36m\u001b[Knote: \u001b[m\u001b[Kexpected ‘\u001b[01m\u001b[KPyObject *\u001b[m\u001b[K’ {aka ‘\u001b[01m\u001b[Kstruct _object *\u001b[m\u001b[K’} but argument is of type ‘\u001b[01m\u001b[Kint\u001b[m\u001b[K’\n",
            "  151 |         PyObject *, PyObject *, \u001b[01;36m\u001b[KPyObject *\u001b[m\u001b[K, int, PyObject *,\n",
            "      |                                 \u001b[01;36m\u001b[K^~~~~~~~~~\u001b[m\u001b[K\n",
            "\u001b[01m\u001b[Kglove/glove_cython.c:15048:259:\u001b[m\u001b[K \u001b[01;35m\u001b[Kwarning: \u001b[m\u001b[Kpassing argument 15 of ‘\u001b[01m\u001b[KPyCode_New\u001b[m\u001b[K’ makes integer from pointer without a cast [\u001b[01;35m\u001b[K\u001b]8;;https://gcc.gnu.org/onlinedocs/gcc/Warning-Options.html#index-Wint-conversion\u0007-Wint-conversion\u001b]8;;\u0007\u001b[m\u001b[K]\n",
            "15048 |  __pyx_kp_s_home_maciej_Dropbox_code_glove, __pyx_n_s_transform_paragraph, 111, \u001b[01;35m\u001b[K__pyx_empty_bytes\u001b[m\u001b[K); if (unlikely(!__pyx_codeobj__18)) {__pyx_filename = __pyx_f[0]; __pyx_lineno = 111; __pyx_clineno = __LINE__; goto __pyx_L1_error;}\n",
            "      |                                                                                 \u001b[01;35m\u001b[K^~~~~~~~~~~~~~~~~\u001b[m\u001b[K\n",
            "      |                                                                                 \u001b[01;35m\u001b[K|\u001b[m\u001b[K\n",
            "      |                                                                                 \u001b[01;35m\u001b[KPyObject * {aka struct _object *}\u001b[m\u001b[K\n",
            "\n",
            "\u001b[01m\u001b[Kglove/glove_cython.c:77:79:\u001b[m\u001b[K \u001b[01;36m\u001b[Knote: \u001b[m\u001b[Kin definition of macro ‘\u001b[01m\u001b[K__Pyx_PyCode_New\u001b[m\u001b[K’\n",
            "   77 |           PyCode_New(a, k, l, s, f, code, c, n, v, fv, cell, fn, name, fline, \u001b[01;36m\u001b[Klnos\u001b[m\u001b[K)\n",
            "      |                                                                               \u001b[01;36m\u001b[K^~~~\u001b[m\u001b[K\n",
            "In file included from \u001b[01m\u001b[K/usr/include/python3.11/Python.h:52\u001b[m\u001b[K,\n",
            "                 from \u001b[01m\u001b[Kglove/glove_cython.c:20\u001b[m\u001b[K:\n",
            "\u001b[01m\u001b[K/usr/include/python3.11/cpython/code.h:151:45:\u001b[m\u001b[K \u001b[01;36m\u001b[Knote: \u001b[m\u001b[Kexpected ‘\u001b[01m\u001b[Kint\u001b[m\u001b[K’ but argument is of type ‘\u001b[01m\u001b[KPyObject *\u001b[m\u001b[K’ {aka ‘\u001b[01m\u001b[Kstruct _object *\u001b[m\u001b[K’}\n",
            "  151 |         PyObject *, PyObject *, PyObject *, \u001b[01;36m\u001b[Kint\u001b[m\u001b[K, PyObject *,\n",
            "      |                                             \u001b[01;36m\u001b[K^~~\u001b[m\u001b[K\n",
            "\u001b[01m\u001b[Kglove/glove_cython.c:77:11:\u001b[m\u001b[K \u001b[01;31m\u001b[Kerror: \u001b[m\u001b[Ktoo few arguments to function ‘\u001b[01m\u001b[KPyCode_New\u001b[m\u001b[K’\n",
            "   77 |           \u001b[01;31m\u001b[KPyCode_New\u001b[m\u001b[K(a, k, l, s, f, code, c, n, v, fv, cell, fn, name, fline, lnos)\n",
            "      |           \u001b[01;31m\u001b[K^~~~~~~~~~\u001b[m\u001b[K\n",
            "\u001b[01m\u001b[Kglove/glove_cython.c:15048:34:\u001b[m\u001b[K \u001b[01;36m\u001b[Knote: \u001b[m\u001b[Kin expansion of macro ‘\u001b[01m\u001b[K__Pyx_PyCode_New\u001b[m\u001b[K’\n",
            "15048 |   __pyx_codeobj__18 = (PyObject*)\u001b[01;36m\u001b[K__Pyx_PyCode_New\u001b[m\u001b[K(11, 0, 25, 0, 0, __pyx_empty_bytes, __pyx_empty_tuple, __pyx_empty_tuple, __pyx_tuple__17, __pyx_empty_tuple, __pyx_empty_tuple, __pyx_kp_s_home_maciej_Dropbox_code_glove, __pyx_n_s_transform_paragraph, 111, __pyx_empty_bytes); if (unlikely(!__pyx_codeobj__18)) {__pyx_filename = __pyx_f[0]; __pyx_lineno = 111; __pyx_clineno = __LINE__; goto __pyx_L1_error;}\n",
            "      |                                  \u001b[01;36m\u001b[K^~~~~~~~~~~~~~~~\u001b[m\u001b[K\n",
            "In file included from \u001b[01m\u001b[K/usr/include/python3.11/Python.h:52\u001b[m\u001b[K,\n",
            "                 from \u001b[01m\u001b[Kglove/glove_cython.c:20\u001b[m\u001b[K:\n",
            "\u001b[01m\u001b[K/usr/include/python3.11/cpython/code.h:148:28:\u001b[m\u001b[K \u001b[01;36m\u001b[Knote: \u001b[m\u001b[Kdeclared here\n",
            "  148 | PyAPI_FUNC(PyCodeObject *) \u001b[01;36m\u001b[KPyCode_New\u001b[m\u001b[K(\n",
            "      |                            \u001b[01;36m\u001b[K^~~~~~~~~~\u001b[m\u001b[K\n",
            "\u001b[01m\u001b[Kglove/glove_cython.c:\u001b[m\u001b[K In function ‘\u001b[01m\u001b[K__Pyx_InitGlobals\u001b[m\u001b[K’:\n",
            "\u001b[01m\u001b[Kglove/glove_cython.c:15114:1:\u001b[m\u001b[K \u001b[01;35m\u001b[Kwarning: \u001b[m\u001b[K‘\u001b[01m\u001b[KPyEval_InitThreads\u001b[m\u001b[K’ is deprecated [\u001b[01;35m\u001b[K\u001b]8;;https://gcc.gnu.org/onlinedocs/gcc/Warning-Options.html#index-Wdeprecated-declarations\u0007-Wdeprecated-declarations\u001b]8;;\u0007\u001b[m\u001b[K]\n",
            "15114 | \u001b[01;35m\u001b[KPyEval_InitThreads\u001b[m\u001b[K();\n",
            "      | \u001b[01;35m\u001b[K^~~~~~~~~~~~~~~~~~\u001b[m\u001b[K\n",
            "In file included from \u001b[01m\u001b[K/usr/include/python3.11/Python.h:95\u001b[m\u001b[K,\n",
            "                 from \u001b[01m\u001b[Kglove/glove_cython.c:20\u001b[m\u001b[K:\n",
            "\u001b[01m\u001b[K/usr/include/python3.11/ceval.h:132:37:\u001b[m\u001b[K \u001b[01;36m\u001b[Knote: \u001b[m\u001b[Kdeclared here\n",
            "  132 | Py_DEPRECATED(3.9) PyAPI_FUNC(void) \u001b[01;36m\u001b[KPyEval_InitThreads\u001b[m\u001b[K(void);\n",
            "      |                                     \u001b[01;36m\u001b[K^~~~~~~~~~~~~~~~~~\u001b[m\u001b[K\n",
            "\u001b[01m\u001b[Kglove/glove_cython.c:\u001b[m\u001b[K In function ‘\u001b[01m\u001b[KPyInit_glove_cython\u001b[m\u001b[K’:\n",
            "\u001b[01m\u001b[Kglove/glove_cython.c:15221:25:\u001b[m\u001b[K \u001b[01;31m\u001b[Kerror: \u001b[m\u001b[K‘\u001b[01m\u001b[KPyTypeObject\u001b[m\u001b[K’ {aka ‘\u001b[01m\u001b[Kstruct _typeobject\u001b[m\u001b[K’} has no member named ‘\u001b[01m\u001b[Ktp_print\u001b[m\u001b[K’\n",
            "15221 |   __pyx_type___pyx_array\u001b[01;31m\u001b[K.\u001b[m\u001b[Ktp_print = 0;\n",
            "      |                         \u001b[01;31m\u001b[K^\u001b[m\u001b[K\n",
            "\u001b[01m\u001b[Kglove/glove_cython.c:15224:31:\u001b[m\u001b[K \u001b[01;31m\u001b[Kerror: \u001b[m\u001b[K‘\u001b[01m\u001b[KPyTypeObject\u001b[m\u001b[K’ {aka ‘\u001b[01m\u001b[Kstruct _typeobject\u001b[m\u001b[K’} has no member named ‘\u001b[01m\u001b[Ktp_print\u001b[m\u001b[K’\n",
            "15224 |   __pyx_type___pyx_MemviewEnum\u001b[01;31m\u001b[K.\u001b[m\u001b[Ktp_print = 0;\n",
            "      |                               \u001b[01;31m\u001b[K^\u001b[m\u001b[K\n",
            "\u001b[01m\u001b[Kglove/glove_cython.c:15235:30:\u001b[m\u001b[K \u001b[01;31m\u001b[Kerror: \u001b[m\u001b[K‘\u001b[01m\u001b[KPyTypeObject\u001b[m\u001b[K’ {aka ‘\u001b[01m\u001b[Kstruct _typeobject\u001b[m\u001b[K’} has no member named ‘\u001b[01m\u001b[Ktp_print\u001b[m\u001b[K’\n",
            "15235 |   __pyx_type___pyx_memoryview\u001b[01;31m\u001b[K.\u001b[m\u001b[Ktp_print = 0;\n",
            "      |                              \u001b[01;31m\u001b[K^\u001b[m\u001b[K\n",
            "\u001b[01m\u001b[Kglove/glove_cython.c:15244:35:\u001b[m\u001b[K \u001b[01;31m\u001b[Kerror: \u001b[m\u001b[K‘\u001b[01m\u001b[KPyTypeObject\u001b[m\u001b[K’ {aka ‘\u001b[01m\u001b[Kstruct _typeobject\u001b[m\u001b[K’} has no member named ‘\u001b[01m\u001b[Ktp_print\u001b[m\u001b[K’\n",
            "15244 |   __pyx_type___pyx_memoryviewslice\u001b[01;31m\u001b[K.\u001b[m\u001b[Ktp_print = 0;\n",
            "      |                                   \u001b[01;31m\u001b[K^\u001b[m\u001b[K\n",
            "\u001b[01m\u001b[Kglove/glove_cython.c:\u001b[m\u001b[K In function ‘\u001b[01m\u001b[K__Pyx_ParseOptionalKeywords\u001b[m\u001b[K’:\n",
            "\u001b[01m\u001b[Kglove/glove_cython.c:15587:21:\u001b[m\u001b[K \u001b[01;35m\u001b[Kwarning: \u001b[m\u001b[K‘\u001b[01m\u001b[KPyUnicode_GET_SIZE\u001b[m\u001b[K’ is deprecated [\u001b[01;35m\u001b[K\u001b]8;;https://gcc.gnu.org/onlinedocs/gcc/Warning-Options.html#index-Wdeprecated-declarations\u0007-Wdeprecated-declarations\u001b]8;;\u0007\u001b[m\u001b[K]\n",
            "15587 |                     \u001b[01;35m\u001b[K(\u001b[m\u001b[KPyUnicode_GET_SIZE(**name) != PyUnicode_GET_SIZE(key)) ? 1 :\n",
            "      |                     \u001b[01;35m\u001b[K^\u001b[m\u001b[K\n",
            "In file included from \u001b[01m\u001b[K/usr/include/python3.11/unicodeobject.h:1042\u001b[m\u001b[K,\n",
            "                 from \u001b[01m\u001b[K/usr/include/python3.11/Python.h:51\u001b[m\u001b[K,\n",
            "                 from \u001b[01m\u001b[Kglove/glove_cython.c:20\u001b[m\u001b[K:\n",
            "\u001b[01m\u001b[K/usr/include/python3.11/cpython/unicodeobject.h:652:26:\u001b[m\u001b[K \u001b[01;36m\u001b[Knote: \u001b[m\u001b[Kdeclared here\n",
            "  652 | static inline Py_ssize_t \u001b[01;36m\u001b[KPyUnicode_GET_SIZE\u001b[m\u001b[K(PyObject *op)\n",
            "      |                          \u001b[01;36m\u001b[K^~~~~~~~~~~~~~~~~~\u001b[m\u001b[K\n",
            "\u001b[01m\u001b[Kglove/glove_cython.c:15587:21:\u001b[m\u001b[K \u001b[01;35m\u001b[Kwarning: \u001b[m\u001b[K‘\u001b[01m\u001b[KPyUnicode_GET_SIZE\u001b[m\u001b[K’ is deprecated [\u001b[01;35m\u001b[K\u001b]8;;https://gcc.gnu.org/onlinedocs/gcc/Warning-Options.html#index-Wdeprecated-declarations\u0007-Wdeprecated-declarations\u001b]8;;\u0007\u001b[m\u001b[K]\n",
            "15587 |                     \u001b[01;35m\u001b[K(\u001b[m\u001b[KPyUnicode_GET_SIZE(**name) != PyUnicode_GET_SIZE(key)) ? 1 :\n",
            "      |                     \u001b[01;35m\u001b[K^\u001b[m\u001b[K\n",
            "In file included from \u001b[01m\u001b[K/usr/include/python3.11/unicodeobject.h:1042\u001b[m\u001b[K,\n",
            "                 from \u001b[01m\u001b[K/usr/include/python3.11/Python.h:51\u001b[m\u001b[K,\n",
            "                 from \u001b[01m\u001b[Kglove/glove_cython.c:20\u001b[m\u001b[K:\n",
            "\u001b[01m\u001b[K/usr/include/python3.11/cpython/unicodeobject.h:652:26:\u001b[m\u001b[K \u001b[01;36m\u001b[Knote: \u001b[m\u001b[Kdeclared here\n",
            "  652 | static inline Py_ssize_t \u001b[01;36m\u001b[KPyUnicode_GET_SIZE\u001b[m\u001b[K(PyObject *op)\n",
            "      |                          \u001b[01;36m\u001b[K^~~~~~~~~~~~~~~~~~\u001b[m\u001b[K\n",
            "\u001b[01m\u001b[Kglove/glove_cython.c:15603:25:\u001b[m\u001b[K \u001b[01;35m\u001b[Kwarning: \u001b[m\u001b[K‘\u001b[01m\u001b[KPyUnicode_GET_SIZE\u001b[m\u001b[K’ is deprecated [\u001b[01;35m\u001b[K\u001b]8;;https://gcc.gnu.org/onlinedocs/gcc/Warning-Options.html#index-Wdeprecated-declarations\u0007-Wdeprecated-declarations\u001b]8;;\u0007\u001b[m\u001b[K]\n",
            "15603 |                         \u001b[01;35m\u001b[K(\u001b[m\u001b[KPyUnicode_GET_SIZE(**argname) != PyUnicode_GET_SIZE(key)) ? 1 :\n",
            "      |                         \u001b[01;35m\u001b[K^\u001b[m\u001b[K\n",
            "In file included from \u001b[01m\u001b[K/usr/include/python3.11/unicodeobject.h:1042\u001b[m\u001b[K,\n",
            "                 from \u001b[01m\u001b[K/usr/include/python3.11/Python.h:51\u001b[m\u001b[K,\n",
            "                 from \u001b[01m\u001b[Kglove/glove_cython.c:20\u001b[m\u001b[K:\n",
            "\u001b[01m\u001b[K/usr/include/python3.11/cpython/unicodeobject.h:652:26:\u001b[m\u001b[K \u001b[01;36m\u001b[Knote: \u001b[m\u001b[Kdeclared here\n",
            "  652 | static inline Py_ssize_t \u001b[01;36m\u001b[KPyUnicode_GET_SIZE\u001b[m\u001b[K(PyObject *op)\n",
            "      |                          \u001b[01;36m\u001b[K^~~~~~~~~~~~~~~~~~\u001b[m\u001b[K\n",
            "\u001b[01m\u001b[Kglove/glove_cython.c:15603:25:\u001b[m\u001b[K \u001b[01;35m\u001b[Kwarning: \u001b[m\u001b[K‘\u001b[01m\u001b[KPyUnicode_GET_SIZE\u001b[m\u001b[K’ is deprecated [\u001b[01;35m\u001b[K\u001b]8;;https://gcc.gnu.org/onlinedocs/gcc/Warning-Options.html#index-Wdeprecated-declarations\u0007-Wdeprecated-declarations\u001b]8;;\u0007\u001b[m\u001b[K]\n",
            "15603 |                         \u001b[01;35m\u001b[K(\u001b[m\u001b[KPyUnicode_GET_SIZE(**argname) != PyUnicode_GET_SIZE(key)) ? 1 :\n",
            "      |                         \u001b[01;35m\u001b[K^\u001b[m\u001b[K\n",
            "In file included from \u001b[01m\u001b[K/usr/include/python3.11/unicodeobject.h:1042\u001b[m\u001b[K,\n",
            "                 from \u001b[01m\u001b[K/usr/include/python3.11/Python.h:51\u001b[m\u001b[K,\n",
            "                 from \u001b[01m\u001b[Kglove/glove_cython.c:20\u001b[m\u001b[K:\n",
            "\u001b[01m\u001b[K/usr/include/python3.11/cpython/unicodeobject.h:652:26:\u001b[m\u001b[K \u001b[01;36m\u001b[Knote: \u001b[m\u001b[Kdeclared here\n",
            "  652 | static inline Py_ssize_t \u001b[01;36m\u001b[KPyUnicode_GET_SIZE\u001b[m\u001b[K(PyObject *op)\n",
            "      |                          \u001b[01;36m\u001b[K^~~~~~~~~~~~~~~~~~\u001b[m\u001b[K\n",
            "\u001b[01m\u001b[Kglove/glove_cython.c:\u001b[m\u001b[K In function ‘\u001b[01m\u001b[K__Pyx_decode_c_string\u001b[m\u001b[K’:\n",
            "\u001b[01m\u001b[Kglove/glove_cython.c:16714:9:\u001b[m\u001b[K \u001b[01;35m\u001b[Kwarning: \u001b[m\u001b[K‘\u001b[01m\u001b[KPyUnicode_FromUnicode\u001b[m\u001b[K’ is deprecated [\u001b[01;35m\u001b[K\u001b]8;;https://gcc.gnu.org/onlinedocs/gcc/Warning-Options.html#index-Wdeprecated-declarations\u0007-Wdeprecated-declarations\u001b]8;;\u0007\u001b[m\u001b[K]\n",
            "16714 |         \u001b[01;35m\u001b[Kreturn\u001b[m\u001b[K PyUnicode_FromUnicode(NULL, 0);\n",
            "      |         \u001b[01;35m\u001b[K^~~~~~\u001b[m\u001b[K\n",
            "In file included from \u001b[01m\u001b[K/usr/include/python3.11/unicodeobject.h:1042\u001b[m\u001b[K,\n",
            "                 from \u001b[01m\u001b[K/usr/include/python3.11/Python.h:51\u001b[m\u001b[K,\n",
            "                 from \u001b[01m\u001b[Kglove/glove_cython.c:20\u001b[m\u001b[K:\n",
            "\u001b[01m\u001b[K/usr/include/python3.11/cpython/unicodeobject.h:600:42:\u001b[m\u001b[K \u001b[01;36m\u001b[Knote: \u001b[m\u001b[Kdeclared here\n",
            "  600 | Py_DEPRECATED(3.3) PyAPI_FUNC(PyObject*) \u001b[01;36m\u001b[KPyUnicode_FromUnicode\u001b[m\u001b[K(\n",
            "      |                                          \u001b[01;36m\u001b[K^~~~~~~~~~~~~~~~~~~~~\u001b[m\u001b[K\n",
            "\u001b[01m\u001b[Kglove/glove_cython.c:\u001b[m\u001b[K In function ‘\u001b[01m\u001b[K__Pyx_ExceptionSave\u001b[m\u001b[K’:\n",
            "\u001b[01m\u001b[Kglove/glove_cython.c:16753:21:\u001b[m\u001b[K \u001b[01;31m\u001b[Kerror: \u001b[m\u001b[K‘\u001b[01m\u001b[KPyThreadState\u001b[m\u001b[K’ {aka ‘\u001b[01m\u001b[Kstruct _ts\u001b[m\u001b[K’} has no member named ‘\u001b[01m\u001b[Kexc_type\u001b[m\u001b[K’; did you mean ‘\u001b[01m\u001b[Kcurexc_type\u001b[m\u001b[K’?\n",
            "16753 |     *type = tstate->\u001b[01;31m\u001b[Kexc_type\u001b[m\u001b[K;\n",
            "      |                     \u001b[01;31m\u001b[K^~~~~~~~\u001b[m\u001b[K\n",
            "      |                     \u001b[32m\u001b[Kcurexc_type\u001b[m\u001b[K\n",
            "\u001b[01m\u001b[Kglove/glove_cython.c:16754:22:\u001b[m\u001b[K \u001b[01;31m\u001b[Kerror: \u001b[m\u001b[K‘\u001b[01m\u001b[KPyThreadState\u001b[m\u001b[K’ {aka ‘\u001b[01m\u001b[Kstruct _ts\u001b[m\u001b[K’} has no member named ‘\u001b[01m\u001b[Kexc_value\u001b[m\u001b[K’; did you mean ‘\u001b[01m\u001b[Kcurexc_value\u001b[m\u001b[K’?\n",
            "16754 |     *value = tstate->\u001b[01;31m\u001b[Kexc_value\u001b[m\u001b[K;\n",
            "      |                      \u001b[01;31m\u001b[K^~~~~~~~~\u001b[m\u001b[K\n",
            "      |                      \u001b[32m\u001b[Kcurexc_value\u001b[m\u001b[K\n",
            "\u001b[01m\u001b[Kglove/glove_cython.c:16755:19:\u001b[m\u001b[K \u001b[01;31m\u001b[Kerror: \u001b[m\u001b[K‘\u001b[01m\u001b[KPyThreadState\u001b[m\u001b[K’ {aka ‘\u001b[01m\u001b[Kstruct _ts\u001b[m\u001b[K’} has no member named ‘\u001b[01m\u001b[Kexc_traceback\u001b[m\u001b[K’; did you mean ‘\u001b[01m\u001b[Kcurexc_traceback\u001b[m\u001b[K’?\n",
            "16755 |     *tb = tstate->\u001b[01;31m\u001b[Kexc_traceback\u001b[m\u001b[K;\n",
            "      |                   \u001b[01;31m\u001b[K^~~~~~~~~~~~~\u001b[m\u001b[K\n",
            "      |                   \u001b[32m\u001b[Kcurexc_traceback\u001b[m\u001b[K\n",
            "\u001b[01m\u001b[Kglove/glove_cython.c:\u001b[m\u001b[K In function ‘\u001b[01m\u001b[K__Pyx_ExceptionReset\u001b[m\u001b[K’:\n",
            "\u001b[01m\u001b[Kglove/glove_cython.c:16767:24:\u001b[m\u001b[K \u001b[01;31m\u001b[Kerror: \u001b[m\u001b[K‘\u001b[01m\u001b[KPyThreadState\u001b[m\u001b[K’ {aka ‘\u001b[01m\u001b[Kstruct _ts\u001b[m\u001b[K’} has no member named ‘\u001b[01m\u001b[Kexc_type\u001b[m\u001b[K’; did you mean ‘\u001b[01m\u001b[Kcurexc_type\u001b[m\u001b[K’?\n",
            "16767 |     tmp_type = tstate->\u001b[01;31m\u001b[Kexc_type\u001b[m\u001b[K;\n",
            "      |                        \u001b[01;31m\u001b[K^~~~~~~~\u001b[m\u001b[K\n",
            "      |                        \u001b[32m\u001b[Kcurexc_type\u001b[m\u001b[K\n",
            "\u001b[01m\u001b[Kglove/glove_cython.c:16768:25:\u001b[m\u001b[K \u001b[01;31m\u001b[Kerror: \u001b[m\u001b[K‘\u001b[01m\u001b[KPyThreadState\u001b[m\u001b[K’ {aka ‘\u001b[01m\u001b[Kstruct _ts\u001b[m\u001b[K’} has no member named ‘\u001b[01m\u001b[Kexc_value\u001b[m\u001b[K’; did you mean ‘\u001b[01m\u001b[Kcurexc_value\u001b[m\u001b[K’?\n",
            "16768 |     tmp_value = tstate->\u001b[01;31m\u001b[Kexc_value\u001b[m\u001b[K;\n",
            "      |                         \u001b[01;31m\u001b[K^~~~~~~~~\u001b[m\u001b[K\n",
            "      |                         \u001b[32m\u001b[Kcurexc_value\u001b[m\u001b[K\n",
            "\u001b[01m\u001b[Kglove/glove_cython.c:16769:22:\u001b[m\u001b[K \u001b[01;31m\u001b[Kerror: \u001b[m\u001b[K‘\u001b[01m\u001b[KPyThreadState\u001b[m\u001b[K’ {aka ‘\u001b[01m\u001b[Kstruct _ts\u001b[m\u001b[K’} has no member named ‘\u001b[01m\u001b[Kexc_traceback\u001b[m\u001b[K’; did you mean ‘\u001b[01m\u001b[Kcurexc_traceback\u001b[m\u001b[K’?\n",
            "16769 |     tmp_tb = tstate->\u001b[01;31m\u001b[Kexc_traceback\u001b[m\u001b[K;\n",
            "      |                      \u001b[01;31m\u001b[K^~~~~~~~~~~~~\u001b[m\u001b[K\n",
            "      |                      \u001b[32m\u001b[Kcurexc_traceback\u001b[m\u001b[K\n",
            "\u001b[01m\u001b[Kglove/glove_cython.c:16770:13:\u001b[m\u001b[K \u001b[01;31m\u001b[Kerror: \u001b[m\u001b[K‘\u001b[01m\u001b[KPyThreadState\u001b[m\u001b[K’ {aka ‘\u001b[01m\u001b[Kstruct _ts\u001b[m\u001b[K’} has no member named ‘\u001b[01m\u001b[Kexc_type\u001b[m\u001b[K’; did you mean ‘\u001b[01m\u001b[Kcurexc_type\u001b[m\u001b[K’?\n",
            "16770 |     tstate->\u001b[01;31m\u001b[Kexc_type\u001b[m\u001b[K = type;\n",
            "      |             \u001b[01;31m\u001b[K^~~~~~~~\u001b[m\u001b[K\n",
            "      |             \u001b[32m\u001b[Kcurexc_type\u001b[m\u001b[K\n",
            "\u001b[01m\u001b[Kglove/glove_cython.c:16771:13:\u001b[m\u001b[K \u001b[01;31m\u001b[Kerror: \u001b[m\u001b[K‘\u001b[01m\u001b[KPyThreadState\u001b[m\u001b[K’ {aka ‘\u001b[01m\u001b[Kstruct _ts\u001b[m\u001b[K’} has no member named ‘\u001b[01m\u001b[Kexc_value\u001b[m\u001b[K’; did you mean ‘\u001b[01m\u001b[Kcurexc_value\u001b[m\u001b[K’?\n",
            "16771 |     tstate->\u001b[01;31m\u001b[Kexc_value\u001b[m\u001b[K = value;\n",
            "      |             \u001b[01;31m\u001b[K^~~~~~~~~\u001b[m\u001b[K\n",
            "      |             \u001b[32m\u001b[Kcurexc_value\u001b[m\u001b[K\n",
            "\u001b[01m\u001b[Kglove/glove_cython.c:16772:13:\u001b[m\u001b[K \u001b[01;31m\u001b[Kerror: \u001b[m\u001b[K‘\u001b[01m\u001b[KPyThreadState\u001b[m\u001b[K’ {aka ‘\u001b[01m\u001b[Kstruct _ts\u001b[m\u001b[K’} has no member named ‘\u001b[01m\u001b[Kexc_traceback\u001b[m\u001b[K’; did you mean ‘\u001b[01m\u001b[Kcurexc_traceback\u001b[m\u001b[K’?\n",
            "16772 |     tstate->\u001b[01;31m\u001b[Kexc_traceback\u001b[m\u001b[K = tb;\n",
            "      |             \u001b[01;31m\u001b[K^~~~~~~~~~~~~\u001b[m\u001b[K\n",
            "      |             \u001b[32m\u001b[Kcurexc_traceback\u001b[m\u001b[K\n",
            "\u001b[01m\u001b[Kglove/glove_cython.c:\u001b[m\u001b[K In function ‘\u001b[01m\u001b[K__Pyx_GetException\u001b[m\u001b[K’:\n",
            "\u001b[01m\u001b[Kglove/glove_cython.c:16815:24:\u001b[m\u001b[K \u001b[01;31m\u001b[Kerror: \u001b[m\u001b[K‘\u001b[01m\u001b[KPyThreadState\u001b[m\u001b[K’ {aka ‘\u001b[01m\u001b[Kstruct _ts\u001b[m\u001b[K’} has no member named ‘\u001b[01m\u001b[Kexc_type\u001b[m\u001b[K’; did you mean ‘\u001b[01m\u001b[Kcurexc_type\u001b[m\u001b[K’?\n",
            "16815 |     tmp_type = tstate->\u001b[01;31m\u001b[Kexc_type\u001b[m\u001b[K;\n",
            "      |                        \u001b[01;31m\u001b[K^~~~~~~~\u001b[m\u001b[K\n",
            "      |                        \u001b[32m\u001b[Kcurexc_type\u001b[m\u001b[K\n",
            "\u001b[01m\u001b[Kglove/glove_cython.c:16816:25:\u001b[m\u001b[K \u001b[01;31m\u001b[Kerror: \u001b[m\u001b[K‘\u001b[01m\u001b[KPyThreadState\u001b[m\u001b[K’ {aka ‘\u001b[01m\u001b[Kstruct _ts\u001b[m\u001b[K’} has no member named ‘\u001b[01m\u001b[Kexc_value\u001b[m\u001b[K’; did you mean ‘\u001b[01m\u001b[Kcurexc_value\u001b[m\u001b[K’?\n",
            "16816 |     tmp_value = tstate->\u001b[01;31m\u001b[Kexc_value\u001b[m\u001b[K;\n",
            "      |                         \u001b[01;31m\u001b[K^~~~~~~~~\u001b[m\u001b[K\n",
            "      |                         \u001b[32m\u001b[Kcurexc_value\u001b[m\u001b[K\n",
            "\u001b[01m\u001b[Kglove/glove_cython.c:16817:22:\u001b[m\u001b[K \u001b[01;31m\u001b[Kerror: \u001b[m\u001b[K‘\u001b[01m\u001b[KPyThreadState\u001b[m\u001b[K’ {aka ‘\u001b[01m\u001b[Kstruct _ts\u001b[m\u001b[K’} has no member named ‘\u001b[01m\u001b[Kexc_traceback\u001b[m\u001b[K’; did you mean ‘\u001b[01m\u001b[Kcurexc_traceback\u001b[m\u001b[K’?\n",
            "16817 |     tmp_tb = tstate->\u001b[01;31m\u001b[Kexc_traceback\u001b[m\u001b[K;\n",
            "      |                      \u001b[01;31m\u001b[K^~~~~~~~~~~~~\u001b[m\u001b[K\n",
            "      |                      \u001b[32m\u001b[Kcurexc_traceback\u001b[m\u001b[K\n",
            "\u001b[01m\u001b[Kglove/glove_cython.c:16818:13:\u001b[m\u001b[K \u001b[01;31m\u001b[Kerror: \u001b[m\u001b[K‘\u001b[01m\u001b[KPyThreadState\u001b[m\u001b[K’ {aka ‘\u001b[01m\u001b[Kstruct _ts\u001b[m\u001b[K’} has no member named ‘\u001b[01m\u001b[Kexc_type\u001b[m\u001b[K’; did you mean ‘\u001b[01m\u001b[Kcurexc_type\u001b[m\u001b[K’?\n",
            "16818 |     tstate->\u001b[01;31m\u001b[Kexc_type\u001b[m\u001b[K = local_type;\n",
            "      |             \u001b[01;31m\u001b[K^~~~~~~~\u001b[m\u001b[K\n",
            "      |             \u001b[32m\u001b[Kcurexc_type\u001b[m\u001b[K\n",
            "\u001b[01m\u001b[Kglove/glove_cython.c:16819:13:\u001b[m\u001b[K \u001b[01;31m\u001b[Kerror: \u001b[m\u001b[K‘\u001b[01m\u001b[KPyThreadState\u001b[m\u001b[K’ {aka ‘\u001b[01m\u001b[Kstruct _ts\u001b[m\u001b[K’} has no member named ‘\u001b[01m\u001b[Kexc_value\u001b[m\u001b[K’; did you mean ‘\u001b[01m\u001b[Kcurexc_value\u001b[m\u001b[K’?\n",
            "16819 |     tstate->\u001b[01;31m\u001b[Kexc_value\u001b[m\u001b[K = local_value;\n",
            "      |             \u001b[01;31m\u001b[K^~~~~~~~~\u001b[m\u001b[K\n",
            "      |             \u001b[32m\u001b[Kcurexc_value\u001b[m\u001b[K\n",
            "\u001b[01m\u001b[Kglove/glove_cython.c:16820:13:\u001b[m\u001b[K \u001b[01;31m\u001b[Kerror: \u001b[m\u001b[K‘\u001b[01m\u001b[KPyThreadState\u001b[m\u001b[K’ {aka ‘\u001b[01m\u001b[Kstruct _ts\u001b[m\u001b[K’} has no member named ‘\u001b[01m\u001b[Kexc_traceback\u001b[m\u001b[K’; did you mean ‘\u001b[01m\u001b[Kcurexc_traceback\u001b[m\u001b[K’?\n",
            "16820 |     tstate->\u001b[01;31m\u001b[Kexc_traceback\u001b[m\u001b[K = local_tb;\n",
            "      |             \u001b[01;31m\u001b[K^~~~~~~~~~~~~\u001b[m\u001b[K\n",
            "      |             \u001b[32m\u001b[Kcurexc_traceback\u001b[m\u001b[K\n",
            "\u001b[01m\u001b[Kglove/glove_cython.c:\u001b[m\u001b[K In function ‘\u001b[01m\u001b[K__Pyx_ExceptionSwap\u001b[m\u001b[K’:\n",
            "\u001b[01m\u001b[Kglove/glove_cython.c:16842:24:\u001b[m\u001b[K \u001b[01;31m\u001b[Kerror: \u001b[m\u001b[K‘\u001b[01m\u001b[KPyThreadState\u001b[m\u001b[K’ {aka ‘\u001b[01m\u001b[Kstruct _ts\u001b[m\u001b[K’} has no member named ‘\u001b[01m\u001b[Kexc_type\u001b[m\u001b[K’; did you mean ‘\u001b[01m\u001b[Kcurexc_type\u001b[m\u001b[K’?\n",
            "16842 |     tmp_type = tstate->\u001b[01;31m\u001b[Kexc_type\u001b[m\u001b[K;\n",
            "      |                        \u001b[01;31m\u001b[K^~~~~~~~\u001b[m\u001b[K\n",
            "      |                        \u001b[32m\u001b[Kcurexc_type\u001b[m\u001b[K\n",
            "\u001b[01m\u001b[Kglove/glove_cython.c:16843:25:\u001b[m\u001b[K \u001b[01;31m\u001b[Kerror: \u001b[m\u001b[K‘\u001b[01m\u001b[KPyThreadState\u001b[m\u001b[K’ {aka ‘\u001b[01m\u001b[Kstruct _ts\u001b[m\u001b[K’} has no member named ‘\u001b[01m\u001b[Kexc_value\u001b[m\u001b[K’; did you mean ‘\u001b[01m\u001b[Kcurexc_value\u001b[m\u001b[K’?\n",
            "16843 |     tmp_value = tstate->\u001b[01;31m\u001b[Kexc_value\u001b[m\u001b[K;\n",
            "      |                         \u001b[01;31m\u001b[K^~~~~~~~~\u001b[m\u001b[K\n",
            "      |                         \u001b[32m\u001b[Kcurexc_value\u001b[m\u001b[K\n",
            "\u001b[01m\u001b[Kglove/glove_cython.c:16844:22:\u001b[m\u001b[K \u001b[01;31m\u001b[Kerror: \u001b[m\u001b[K‘\u001b[01m\u001b[KPyThreadState\u001b[m\u001b[K’ {aka ‘\u001b[01m\u001b[Kstruct _ts\u001b[m\u001b[K’} has no member named ‘\u001b[01m\u001b[Kexc_traceback\u001b[m\u001b[K’; did you mean ‘\u001b[01m\u001b[Kcurexc_traceback\u001b[m\u001b[K’?\n",
            "16844 |     tmp_tb = tstate->\u001b[01;31m\u001b[Kexc_traceback\u001b[m\u001b[K;\n",
            "      |                      \u001b[01;31m\u001b[K^~~~~~~~~~~~~\u001b[m\u001b[K\n",
            "      |                      \u001b[32m\u001b[Kcurexc_traceback\u001b[m\u001b[K\n",
            "\u001b[01m\u001b[Kglove/glove_cython.c:16845:13:\u001b[m\u001b[K \u001b[01;31m\u001b[Kerror: \u001b[m\u001b[K‘\u001b[01m\u001b[KPyThreadState\u001b[m\u001b[K’ {aka ‘\u001b[01m\u001b[Kstruct _ts\u001b[m\u001b[K’} has no member named ‘\u001b[01m\u001b[Kexc_type\u001b[m\u001b[K’; did you mean ‘\u001b[01m\u001b[Kcurexc_type\u001b[m\u001b[K’?\n",
            "16845 |     tstate->\u001b[01;31m\u001b[Kexc_type\u001b[m\u001b[K = *type;\n",
            "      |             \u001b[01;31m\u001b[K^~~~~~~~\u001b[m\u001b[K\n",
            "      |             \u001b[32m\u001b[Kcurexc_type\u001b[m\u001b[K\n",
            "\u001b[01m\u001b[Kglove/glove_cython.c:16846:13:\u001b[m\u001b[K \u001b[01;31m\u001b[Kerror: \u001b[m\u001b[K‘\u001b[01m\u001b[KPyThreadState\u001b[m\u001b[K’ {aka ‘\u001b[01m\u001b[Kstruct _ts\u001b[m\u001b[K’} has no member named ‘\u001b[01m\u001b[Kexc_value\u001b[m\u001b[K’; did you mean ‘\u001b[01m\u001b[Kcurexc_value\u001b[m\u001b[K’?\n",
            "16846 |     tstate->\u001b[01;31m\u001b[Kexc_value\u001b[m\u001b[K = *value;\n",
            "      |             \u001b[01;31m\u001b[K^~~~~~~~~\u001b[m\u001b[K\n",
            "      |             \u001b[32m\u001b[Kcurexc_value\u001b[m\u001b[K\n",
            "\u001b[01m\u001b[Kglove/glove_cython.c:16847:13:\u001b[m\u001b[K \u001b[01;31m\u001b[Kerror: \u001b[m\u001b[K‘\u001b[01m\u001b[KPyThreadState\u001b[m\u001b[K’ {aka ‘\u001b[01m\u001b[Kstruct _ts\u001b[m\u001b[K’} has no member named ‘\u001b[01m\u001b[Kexc_traceback\u001b[m\u001b[K’; did you mean ‘\u001b[01m\u001b[Kcurexc_traceback\u001b[m\u001b[K’?\n",
            "16847 |     tstate->\u001b[01;31m\u001b[Kexc_traceback\u001b[m\u001b[K = *tb;\n",
            "      |             \u001b[01;31m\u001b[K^~~~~~~~~~~~~\u001b[m\u001b[K\n",
            "      |             \u001b[32m\u001b[Kcurexc_traceback\u001b[m\u001b[K\n",
            "\u001b[01m\u001b[Kglove/glove_cython.c:\u001b[m\u001b[K At top level:\n",
            "\u001b[01m\u001b[Kglove/glove_cython.c:17012:12:\u001b[m\u001b[K \u001b[01;31m\u001b[Kfatal error: \u001b[m\u001b[Klongintrepr.h: No such file or directory\n",
            "17012 |   #include \u001b[01;31m\u001b[K\"longintrepr.h\"\u001b[m\u001b[K\n",
            "      |            \u001b[01;31m\u001b[K^~~~~~~~~~~~~~~\u001b[m\u001b[K\n",
            "compilation terminated.\n",
            "error: command '/usr/bin/x86_64-linux-gnu-gcc' failed with exit code 1\n"
          ]
        }
      ]
    }
  ]
}